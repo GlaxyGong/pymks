{
 "metadata": {
  "name": ""
 },
 "nbformat": 3,
 "nbformat_minor": 0,
 "worksheets": [
  {
   "cells": [
    {
     "cell_type": "code",
     "collapsed": false,
     "input": [
      "from pymks import MKSRegressionModel\n"
     ],
     "language": "python",
     "metadata": {},
     "outputs": [],
     "prompt_number": 49
    },
    {
     "cell_type": "code",
     "collapsed": false,
     "input": [
      "def filter(x):\n",
      "    return np.exp(-abs(x)) * np.cos(x * np.pi)"
     ],
     "language": "python",
     "metadata": {},
     "outputs": [],
     "prompt_number": 50
    },
    {
     "cell_type": "code",
     "collapsed": false,
     "input": [
      "x = np.linspace(-10, 10, 100)\n",
      "\n",
      "plt.plot(x, filter(x))"
     ],
     "language": "python",
     "metadata": {},
     "outputs": [
      {
       "metadata": {},
       "output_type": "pyout",
       "prompt_number": 51,
       "text": [
        "[<matplotlib.lines.Line2D at 0x4add850>]"
       ]
      },
      {
       "metadata": {},
       "output_type": "display_data",
       "png": "[encoded data removed]",
       "text": [
        "<matplotlib.figure.Figure at 0x51dcd10>"
       ]
      }
     ],
     "prompt_number": 51
    },
    {
     "cell_type": "code",
     "collapsed": false,
     "input": [
      "Nbin = 51\n",
      "Nspace = 41\n",
      "Nsample = 100\n",
      "\n",
      "coeffs = np.linspace(0, 1, Nbin)[None, :] * filter(np.linspace(-10, 10, Nspace))[:, None]"
     ],
     "language": "python",
     "metadata": {},
     "outputs": [],
     "prompt_number": 52
    },
    {
     "cell_type": "code",
     "collapsed": false,
     "input": [
      "Fcoeffs = np.fft.fft(coeffs, axis=0)"
     ],
     "language": "python",
     "metadata": {},
     "outputs": [],
     "prompt_number": 53
    },
    {
     "cell_type": "code",
     "collapsed": false,
     "input": [
      "np.random.seed(2)\n",
      "microstructures = np.random.random((Nsample, Nspace))\n",
      "def bin(ms, Nbins):\n",
      "    H = np.linspace(0, 1, Nbins)\n",
      "    dh = (H[1] - H[0])\n",
      "    return np.maximum(1 - abs(ms[:, :, np.newaxis] - H) / dh, 0)\n",
      "#binnedMicrostructures = np.zeros((Nsample, Nspace, Nbin))\n",
      "#for i in range(Nsample):\n",
      "#    binnedMicrostructures[i] = bin(microstructures[i], Nbin)\n",
      "binnedMicrostructures = bin(microstructures, Nbin)[:,:,:]"
     ],
     "language": "python",
     "metadata": {},
     "outputs": [],
     "prompt_number": 54
    },
    {
     "cell_type": "code",
     "collapsed": false,
     "input": [
      "Fstructures = np.fft.fft(binnedMicrostructures, axis=1)"
     ],
     "language": "python",
     "metadata": {},
     "outputs": [],
     "prompt_number": 55
    },
    {
     "cell_type": "code",
     "collapsed": false,
     "input": [
      "\n",
      "Fresponse = np.sum(Fcoeffs[np.newaxis] * Fstructures, axis=-1)\n",
      "response = np.fft.ifft(Fresponse, axis=1)"
     ],
     "language": "python",
     "metadata": {},
     "outputs": [],
     "prompt_number": 56
    },
    {
     "cell_type": "code",
     "collapsed": false,
     "input": [
      "model = MKSRegressionModel(Nbin=Nbin)\n",
      "model.fit(microstructures, response)"
     ],
     "language": "python",
     "metadata": {},
     "outputs": [],
     "prompt_number": 57
    },
    {
     "cell_type": "code",
     "collapsed": false,
     "input": [
      "Fcoeffs_ = np.zeros((Nspace, Nbin), dtype=np.complex);\n",
      "\n",
      "for i in range(Nspace):\n",
      "    Fcoeffs_[i, :] = np.linalg.lstsq(Fstructures[:, i, :], Fresponse[:, i] )[0]"
     ],
     "language": "python",
     "metadata": {},
     "outputs": [],
     "prompt_number": 58
    },
    {
     "cell_type": "code",
     "collapsed": false,
     "input": [
      "p_response = model.predict(microstructures[:,:,None])\n",
      "\n",
      "print response[3, :]\n",
      "print p_response[3, :, 0]\n"
     ],
     "language": "python",
     "metadata": {},
     "outputs": [
      {
       "output_type": "stream",
       "stream": "stdout",
       "text": [
        "[ 0.25785704+0.j  0.69180336+0.j  0.51924369+0.j -0.47452951+0.j\n",
        "  0.01741396+0.j  0.84615210+0.j -0.03337022+0.j -0.48063321+0.j\n",
        "  0.29141005+0.j  0.70908168+0.j -0.02653177+0.j -0.32143957+0.j\n",
        " -0.08673696+0.j  0.43733708+0.j  0.39655087+0.j -0.09943212+0.j\n",
        "  0.43405578+0.j  0.33504865+0.j  0.32348594+0.j  0.08176979+0.j\n",
        "  0.02407754+0.j  0.09527547+0.j  0.04094096+0.j -0.11582092+0.j\n",
        "  0.49378092+0.j  0.28631223+0.j -0.08550731+0.j -0.07399010+0.j\n",
        "  0.21033220+0.j  0.16604859+0.j  0.10336576+0.j  0.06671574+0.j\n",
        "  0.14197800+0.j  0.73608946+0.j  0.75002800+0.j -0.35200999+0.j\n",
        " -0.13326108+0.j  0.46520199+0.j  0.20687639+0.j  0.42842131+0.j\n",
        " -0.12561088+0.j]\n",
        "[ 0.25785704  0.69180336  0.51924369 -0.47452951  0.01741396  0.8461521\n",
        " -0.03337022 -0.48063321  0.29141005  0.70908168 -0.02653177 -0.32143957\n",
        " -0.08673696  0.43733708  0.39655087 -0.09943212  0.43405578  0.33504865\n",
        "  0.32348594  0.08176979  0.02407754  0.09527547  0.04094096 -0.11582092\n",
        "  0.49378092  0.28631223 -0.08550731 -0.0739901   0.2103322   0.16604859\n",
        "  0.10336576  0.06671574  0.141978    0.73608946  0.750028   -0.35200999\n",
        " -0.13326108  0.46520199  0.20687639  0.42842131 -0.12561088]\n"
       ]
      }
     ],
     "prompt_number": 68
    },
    {
     "cell_type": "code",
     "collapsed": false,
     "input": [
      "print Fresponse.shape\n",
      "print Fstructures.shape"
     ],
     "language": "python",
     "metadata": {},
     "outputs": [
      {
       "output_type": "stream",
       "stream": "stdout",
       "text": [
        "(100, 41)\n",
        "(100, 41, 51)\n"
       ]
      }
     ],
     "prompt_number": 27
    },
    {
     "cell_type": "code",
     "collapsed": false,
     "input": [],
     "language": "python",
     "metadata": {},
     "outputs": []
    },
    {
     "cell_type": "code",
     "collapsed": false,
     "input": [
      "Fcoeffs_ = np.zeros((Nspace, Nbin), dtype=np.complex);\n",
      "\n",
      "for i in range(Nspace):\n",
      "    Fcoeffs_[i, :] = np.linalg.lstsq(Fstructures[:, i, :], Fresponse[:, i] )[0]"
     ],
     "language": "python",
     "metadata": {},
     "outputs": [],
     "prompt_number": 28
    },
    {
     "cell_type": "code",
     "collapsed": false,
     "input": [
      "model = MKSRegressionModel(Nbin=Nbin)\n",
      "model.fit(microstructures, response)"
     ],
     "language": "python",
     "metadata": {},
     "outputs": [],
     "prompt_number": 29
    },
    {
     "cell_type": "code",
     "collapsed": false,
     "input": [
      "print model.coeff.shape"
     ],
     "language": "python",
     "metadata": {},
     "outputs": [
      {
       "output_type": "stream",
       "stream": "stdout",
       "text": [
        "(41, 1, 51)\n"
       ]
      }
     ],
     "prompt_number": 46
    },
    {
     "cell_type": "code",
     "collapsed": false,
     "input": [
      "coeffs__ = np.fft.ifft2(model.coeff, axes=(0, 1)).real"
     ],
     "language": "python",
     "metadata": {},
     "outputs": [],
     "prompt_number": 39
    },
    {
     "cell_type": "code",
     "collapsed": false,
     "input": [
      "coeffs_ = np.fft.ifft(Fcoeffs_, axis = 0).real"
     ],
     "language": "python",
     "metadata": {},
     "outputs": [],
     "prompt_number": 40
    },
    {
     "cell_type": "code",
     "collapsed": false,
     "input": [
      "print coeffs__.shape"
     ],
     "language": "python",
     "metadata": {},
     "outputs": [
      {
       "output_type": "stream",
       "stream": "stdout",
       "text": [
        "(41, 1, 51)\n"
       ]
      }
     ],
     "prompt_number": 41
    },
    {
     "cell_type": "code",
     "collapsed": false,
     "input": [
      "index = 10\n",
      "plt.plot(coeffs[:, index])\n",
      "plt.plot(coeffs_[:, index])\n",
      "plt.plot(coeffs__[:, 0, index])"
     ],
     "language": "python",
     "metadata": {},
     "outputs": [
      {
       "metadata": {},
       "output_type": "pyout",
       "prompt_number": 47,
       "text": [
        "[<matplotlib.lines.Line2D at 0x54f6a10>]"
       ]
      },
      {
       "metadata": {},
       "output_type": "display_data",
       "png": "[encoded data removed]",
       "text": [
        "<matplotlib.figure.Figure at 0x52eced0>"
       ]
      }
     ],
     "prompt_number": 47
    },
    {
     "cell_type": "code",
     "collapsed": false,
     "input": [],
     "language": "python",
     "metadata": {},
     "outputs": [],
     "prompt_number": 317
    },
    {
     "cell_type": "code",
     "collapsed": false,
     "input": [],
     "language": "python",
     "metadata": {},
     "outputs": []
    }
   ],
   "metadata": {}
  }
 ]
}