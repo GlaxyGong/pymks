{
 "metadata": {
  "name": ""
 },
 "nbformat": 3,
 "nbformat_minor": 0,
 "worksheets": [
  {
   "cells": [
    {
     "cell_type": "markdown",
     "metadata": {},
     "source": [
      "## Make the test filter"
     ]
    },
    {
     "cell_type": "code",
     "collapsed": false,
     "input": [
      "%load_ext autoreload\n",
      "%autoreload 2\n",
      "\n",
      "def filter(x):\n",
      "    return np.where(x < 10,\n",
      "                    np.exp(-abs(x)) * np.cos(x * np.pi),\n",
      "                    np.exp(-abs(x - 20)) * np.cos((x - 20) * np.pi))"
     ],
     "language": "python",
     "metadata": {},
     "outputs": [],
     "prompt_number": 1
    },
    {
     "cell_type": "code",
     "collapsed": false,
     "input": [
      "x = np.linspace(0, 20, 81)\n",
      "\n",
      "plt.plot(x, filter(x))"
     ],
     "language": "python",
     "metadata": {},
     "outputs": [
      {
       "metadata": {},
       "output_type": "pyout",
       "prompt_number": 2,
       "text": [
        "[<matplotlib.lines.Line2D at 0x5547710>]"
       ]
      },
      {
       "metadata": {},
       "output_type": "display_data",
       "png": "[encoded data removed]",
       "text": [
        "<matplotlib.figure.Figure at 0x553ed90>"
       ]
      }
     ],
     "prompt_number": 2
    },
    {
     "cell_type": "code",
     "collapsed": false,
     "input": [
      "Nbin = 101\n",
      "Nspace = 81\n",
      "Nsample = 400\n",
      "\n",
      "coeff = np.linspace(1, 0, Nbin)[None, :] * filter(np.linspace(0, 20, Nspace))[:, None]\n",
      "Fcoeff = np.fft.fft(coeff, axis=0)\n",
      "\n",
      "np.random.seed(2)\n",
      "microstructures = np.random.random((Nsample, Nspace))"
     ],
     "language": "python",
     "metadata": {},
     "outputs": [],
     "prompt_number": 3
    },
    {
     "cell_type": "markdown",
     "metadata": {},
     "source": [
      "## Calculate the response"
     ]
    },
    {
     "cell_type": "code",
     "collapsed": false,
     "input": [
      "def bin(ms, Nbin):\n",
      "    H = np.linspace(0, 1, Nbin)\n",
      "    dh = (H[1] - H[0])\n",
      "    return np.maximum(1 - abs(ms[:, :, np.newaxis] - H) / dh, 0)\n",
      "\n",
      "binnedMicrostructures = bin(microstructures, Nbin)[:,:,:]\n",
      "Fstructures = np.fft.fft(binnedMicrostructures, axis=1)\n",
      "Fresponse = np.sum(Fcoeff[np.newaxis] * Fstructures, axis=-1)\n",
      "response = np.fft.ifft(Fresponse, axis=1).real"
     ],
     "language": "python",
     "metadata": {},
     "outputs": [],
     "prompt_number": 4
    },
    {
     "cell_type": "markdown",
     "metadata": {},
     "source": [
      "## Using the mks regression model"
     ]
    },
    {
     "cell_type": "code",
     "collapsed": false,
     "input": [
      "from pymks import MKSRegressionModel\n",
      "model = MKSRegressionModel(Nbin=Nbin)\n",
      "model.fit(microstructures, response)\n",
      "model.response = model.predict(microstructures)\n",
      "model.coeff = np.fft.ifft(model.Fcoeff, axis=0)"
     ],
     "language": "python",
     "metadata": {},
     "outputs": [],
     "prompt_number": 5
    },
    {
     "cell_type": "markdown",
     "metadata": {},
     "source": [
      "## Check the results"
     ]
    },
    {
     "cell_type": "code",
     "collapsed": false,
     "input": [
      "index = 52\n",
      "plt.plot(coeff[:, index])\n",
      "plt.plot(model.coeff[:, index])"
     ],
     "language": "python",
     "metadata": {},
     "outputs": [
      {
       "metadata": {},
       "output_type": "pyout",
       "prompt_number": 8,
       "text": [
        "[<matplotlib.lines.Line2D at 0x57a3d10>]"
       ]
      },
      {
       "metadata": {},
       "output_type": "display_data",
       "png": "[encoded data removed]",
       "text": [
        "<matplotlib.figure.Figure at 0x7f8b650>"
       ]
      }
     ],
     "prompt_number": 8
    },
    {
     "cell_type": "code",
     "collapsed": false,
     "input": [
      "from sklearn import metrics\n",
      "mse = metrics.mean_squared_error\n",
      "\n",
      "print mse(coeff, model.coeff)\n",
      "print max(coeff.flatten())"
     ],
     "language": "python",
     "metadata": {},
     "outputs": [
      {
       "output_type": "stream",
       "stream": "stdout",
       "text": [
        "(0.000245386383038+3.6989667413e-05j)\n",
        "1.0\n"
       ]
      }
     ],
     "prompt_number": 11
    },
    {
     "cell_type": "code",
     "collapsed": false,
     "input": [],
     "language": "python",
     "metadata": {},
     "outputs": []
    }
   ],
   "metadata": {}
  }
 ]
}