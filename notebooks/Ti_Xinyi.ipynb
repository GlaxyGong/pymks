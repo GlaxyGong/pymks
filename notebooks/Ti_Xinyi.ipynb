{
 "metadata": {
  "name": "",
  "signature": "sha256:2e108437475cd74ef757d156fb21cfae1c61105fee51c15e5c051a7ce0ce34c3"
 },
 "nbformat": 3,
 "nbformat_minor": 0,
 "worksheets": [
  {
   "cells": [
    {
     "cell_type": "code",
     "collapsed": false,
     "input": [
      "%matplotlib inline\n",
      "%load_ext autoreload\n",
      "%autoreload 2\n",
      "\n",
      "import numpy as np\n",
      "import matplotlib.pyplot as plt\n",
      "import skimage.io as io\n",
      "import pymks"
     ],
     "language": "python",
     "metadata": {},
     "outputs": [],
     "prompt_number": 1
    },
    {
     "cell_type": "code",
     "collapsed": false,
     "input": [
      "url = 'https://farm4.staticflickr.com/3859/15061737620_b770ee88be_z_d.jpg'\n",
      "X = io.imread(url)[None]\n",
      "X = np.round(X / float(np.max(X))).astype(int)"
     ],
     "language": "python",
     "metadata": {},
     "outputs": [],
     "prompt_number": 2
    },
    {
     "cell_type": "code",
     "collapsed": false,
     "input": [],
     "language": "python",
     "metadata": {},
     "outputs": []
    }
   ],
   "metadata": {}
  }
 ]
}