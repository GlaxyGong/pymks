{
 "metadata": {
  "name": "",
  "signature": "sha256:3355e67f5f4fe89f6ea0af4eb13859608c125597968b05a3b4085a1cf7b9fc7c"
 },
 "nbformat": 3,
 "nbformat_minor": 0,
 "worksheets": []
}