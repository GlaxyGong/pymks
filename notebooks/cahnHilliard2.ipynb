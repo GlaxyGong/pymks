{
 "metadata": {
  "name": ""
 },
 "nbformat": 3,
 "nbformat_minor": 0,
 "worksheets": [
  {
   "cells": [
    {
     "cell_type": "markdown",
     "metadata": {},
     "source": [
      "# Formalizing the MKS and cross validation.\n",
      "\n",
      "In this notebook, we will\n",
      " \n",
      " * split the sample data into test and training sets,\n",
      " \n",
      " * optimize the `Nbin` hyperparameter,\n",
      " \n",
      " * learn to use [Sklearn](http://scikit-learn.org) to cross validate the model.\n",
      " \n",
      " \n",
      "Firstly, import the required modules.\n",
      " "
     ]
    },
    {
     "cell_type": "code",
     "collapsed": false,
     "input": [
      "%load_ext autoreload\n",
      "%autoreload 2\n",
      "\n",
      "import numpy as np\n",
      "import pylab as plt\n",
      "from pymks import MKSRegressionModel\n",
      "from pymks import FiPyCHModel"
     ],
     "language": "python",
     "metadata": {},
     "outputs": [
      {
       "output_type": "stream",
       "stream": "stdout",
       "text": [
        "The autoreload extension is already loaded. To reload it, use:\n",
        "  %reload_ext autoreload\n"
       ]
      }
     ],
     "prompt_number": 2
    },
    {
     "cell_type": "markdown",
     "metadata": {},
     "source": [
      "and make some actual data (400 samples) with a random seed of 0."
     ]
    },
    {
     "cell_type": "code",
     "collapsed": false,
     "input": [
      "np.random.seed(101)\n",
      "X = np.random.random((400, 21, 21))\n",
      "fipymodel = FiPyCHModel(dx=0.25, dy=0.25, dt=1e-3)\n",
      "y = fipymodel.predict(X)"
     ],
     "language": "python",
     "metadata": {},
     "outputs": [],
     "prompt_number": 7
    },
    {
     "cell_type": "markdown",
     "metadata": {},
     "source": [
      "## A sanity check\n",
      "\n",
      "Let's fit the data."
     ]
    },
    {
     "cell_type": "code",
     "collapsed": false,
     "input": [
      "model = MKSRegressionModel(Nbin=10)\n",
      "model.fit(X, y)"
     ],
     "language": "python",
     "metadata": {},
     "outputs": [],
     "prompt_number": 8
    },
    {
     "cell_type": "markdown",
     "metadata": {},
     "source": [
      "The `model` now knows its coefficients"
     ]
    },
    {
     "cell_type": "code",
     "collapsed": false,
     "input": [
      "model.Fcoeff.shape"
     ],
     "language": "python",
     "metadata": {},
     "outputs": [
      {
       "metadata": {},
       "output_type": "pyout",
       "prompt_number": 9,
       "text": [
        "(21, 21, 10)"
       ]
      }
     ],
     "prompt_number": 9
    },
    {
     "cell_type": "markdown",
     "metadata": {},
     "source": [
      "Let's check that the fit sort of \"looks right\" with one test sample"
     ]
    },
    {
     "cell_type": "code",
     "collapsed": false,
     "input": [
      "np.random.seed(102)\n",
      "X_test = np.random.random((1,) + X.shape[1:])\n",
      "y_test = fipymodel.predict(X_test)\n",
      "y_pred = model.predict(X_test)\n",
      "\n",
      "np.random.seed(2)\n",
      "index = np.random.randint(len(y_test.flatten()), size=10)\n",
      "print y_test.flatten()[index]\n",
      "print y_pred.flatten()[index]"
     ],
     "language": "python",
     "metadata": {},
     "outputs": [
      {
       "output_type": "stream",
       "stream": "stdout",
       "text": [
        "[ 309.00638723  127.87524004  116.44871393  -59.75433894 -415.87753406\n",
        "  317.23426462  276.17012634  301.6631644    29.59577115  105.9497362 ]\n",
        "[ 308.40067854  127.72659866  116.38716079  -59.70392929 -415.80818977\n",
        "  317.31339555  276.34468018  301.69377297   29.59237644  106.07147438]\n"
       ]
      }
     ],
     "prompt_number": 12
    },
    {
     "cell_type": "markdown",
     "metadata": {},
     "source": [
      "and check the \"mean square error\" using Sklearn's `mean_squared_error` function."
     ]
    },
    {
     "cell_type": "code",
     "collapsed": false,
     "input": [
      "from sklearn import metrics\n",
      "mse = metrics.mean_squared_error\n",
      "mse(y_test, y_pred)"
     ],
     "language": "python",
     "metadata": {},
     "outputs": [
      {
       "metadata": {},
       "output_type": "pyout",
       "prompt_number": 13,
       "text": [
        "0.02326313981727492"
       ]
      }
     ],
     "prompt_number": 13
    },
    {
     "cell_type": "markdown",
     "metadata": {},
     "source": [
      "Seems okay. Hoe do the coefficients look?"
     ]
    },
    {
     "cell_type": "code",
     "collapsed": false,
     "input": [
      "coeff = np.fft.ifftn(model.Fcoeff, axes=(0, 1)).real\n",
      "Nroll = coeff.shape[0] / 2\n",
      "coeff_rolled = np.roll(np.roll(coeff[:,:,0], Nroll, axis=0), Nroll, axis=1)\n",
      "plt.contourf(coeff_rolled, 250)\n",
      "plt.colorbar()"
     ],
     "language": "python",
     "metadata": {},
     "outputs": [
      {
       "metadata": {},
       "output_type": "pyout",
       "prompt_number": 26,
       "text": [
        "<matplotlib.colorbar.Colorbar instance at 0x624e488>"
       ]
      },
      {
       "metadata": {},
       "output_type": "display_data",
       "png": "[encoded data removed]",
       "text": [
        "<matplotlib.figure.Figure at 0x4690cd0>"
       ]
      }
     ],
     "prompt_number": 26
    },
    {
     "cell_type": "markdown",
     "metadata": {},
     "source": [
      "## Training and testing\n",
      "\n",
      "Now, let's use the Sklearn function `train_test_split` to split the data into training and test data sets. If we use the entire set\n",
      "of data for the fitting and leave nothing for testing, we have no idea if we are simply \"overfitting\" the data. Think of the analogy of using a high order polynomial\n",
      "to fit data points on a graph, while it may fit the data perfectly, we learn nothing as it is a useless model for fitting subsequently generated data.\n",
      "\n",
      "The argument `test_size=0.5` splits the data into equal sized chunks for training and testing."
     ]
    },
    {
     "cell_type": "code",
     "collapsed": false,
     "input": [
      "from sklearn.cross_validation import train_test_split\n",
      "\n",
      "X_train, X_test, y_train, y_test = train_test_split(X, y, test_size=0.5, random_state=3)"
     ],
     "language": "python",
     "metadata": {},
     "outputs": [],
     "prompt_number": 14
    },
    {
     "cell_type": "markdown",
     "metadata": {},
     "source": [
      "Let's refit with the training data set only."
     ]
    },
    {
     "cell_type": "code",
     "collapsed": false,
     "input": [
      "model = MKSRegressionModel(Nbin=10)\n",
      "model.fit(X_train, y_train)"
     ],
     "language": "python",
     "metadata": {},
     "outputs": [],
     "prompt_number": 15
    },
    {
     "cell_type": "markdown",
     "metadata": {},
     "source": [
      "How well does it predict?"
     ]
    },
    {
     "cell_type": "code",
     "collapsed": false,
     "input": [
      "mse(model.predict(X_test), y_test)"
     ],
     "language": "python",
     "metadata": {},
     "outputs": [
      {
       "metadata": {},
       "output_type": "pyout",
       "prompt_number": 16,
       "text": [
        "0.024106248401516709"
       ]
      }
     ],
     "prompt_number": 16
    },
    {
     "cell_type": "markdown",
     "metadata": {},
     "source": [
      "The above is just one way to split the data. We may want to check with alternative splits of the data. This is easy using Sklearn's `cross_validation` module. Here we do `10` different splits and check the mean and standard deviation of the mean square error."
     ]
    },
    {
     "cell_type": "code",
     "collapsed": false,
     "input": [
      "from sklearn import cross_validation\n",
      "\n",
      "model = MKSRegressionModel(Nbin=10)\n",
      "scores = cross_validation.cross_val_score(model, X, y, score_func=mse, cv=10)\n",
      "print(\"MSE: %0.4f (+/- %0.4f)\" % (scores.mean(), scores.std()))"
     ],
     "language": "python",
     "metadata": {},
     "outputs": [
      {
       "output_type": "stream",
       "stream": "stdout",
       "text": [
        "MSE: 0.0236 (+/- 0.0006)\n"
       ]
      }
     ],
     "prompt_number": 17
    },
    {
     "cell_type": "markdown",
     "metadata": {},
     "source": [
      "## Optimize a hyperparameter.\n",
      "\n",
      "`Nbin` is known as a hyperparameter. Hyperparameters are parameters that influence the fitting, but are separate from the data and the parameters used to generate the data.\n",
      "\n",
      "In this example, increasing `Nbin` results in an improved fit. "
     ]
    },
    {
     "cell_type": "code",
     "collapsed": false,
     "input": [
      "import matplotlib.pyplot as plt\n",
      "\n",
      "mse = metrics.mean_squared_error\n",
      "\n",
      "Nbins = np.arange(2, 20)\n",
      "\n",
      "errors = []\n",
      "\n",
      "for Nbin in Nbins:\n",
      "    model = MKSRegressionModel(Nbin=Nbin)\n",
      "    model.fit(X, y)\n",
      "    errors.append(mse(model.predict(X), y))\n",
      "    \n",
      "plt.plot(Nbins, errors)\n",
      "plt.xlabel('Nbin')\n",
      "plt.ylabel('MSE')"
     ],
     "language": "python",
     "metadata": {},
     "outputs": [
      {
       "metadata": {},
       "output_type": "pyout",
       "prompt_number": 18,
       "text": [
        "<matplotlib.text.Text at 0x483ee50>"
       ]
      },
      {
       "metadata": {},
       "output_type": "display_data",
       "png": "[encoded data removed]",
       "text": [
        "<matplotlib.figure.Figure at 0x4f9ea10>"
       ]
      }
     ],
     "prompt_number": 18
    },
    {
     "cell_type": "markdown",
     "metadata": {},
     "source": [
      "However, the test data does not improve as `Nbin` increases."
     ]
    },
    {
     "cell_type": "code",
     "collapsed": false,
     "input": [
      "errors = []\n",
      "\n",
      "for Nbin in Nbins:\n",
      "    model = MKSRegressionModel(Nbin=Nbin)\n",
      "    model.fit(X_train, y_train)\n",
      "    errors.append(mse(model.predict(X_test), y_test))\n",
      "    \n",
      "plt.plot(Nbins, errors)\n",
      "plt.xlabel('Nbin')\n",
      "plt.ylabel('MSE')"
     ],
     "language": "python",
     "metadata": {},
     "outputs": [
      {
       "metadata": {},
       "output_type": "pyout",
       "prompt_number": 19,
       "text": [
        "<matplotlib.text.Text at 0x4f8e350>"
       ]
      },
      {
       "metadata": {},
       "output_type": "display_data",
       "png": "[encoded data removed]",
       "text": [
        "<matplotlib.figure.Figure at 0x4b79690>"
       ]
      }
     ],
     "prompt_number": 19
    },
    {
     "cell_type": "code",
     "collapsed": false,
     "input": [
      "print 'Optimal value of Nbin: %i, MSE: %0.4f' % (Nbins[np.argmin(errors)], min(errors))"
     ],
     "language": "python",
     "metadata": {},
     "outputs": [
      {
       "output_type": "stream",
       "stream": "stdout",
       "text": [
        "Optimal value of Nbin: 6, MSE: 0.0237\n"
       ]
      }
     ],
     "prompt_number": 20
    },
    {
     "cell_type": "markdown",
     "metadata": {},
     "source": [
      "## Training, validation and test data for hyperparameter optimization\n",
      "\n",
      "Using the test data to optimize hyperparameter leads to test data\n",
      "knowledge leaking into the model. A way to avoid this is to optimize\n",
      "the hyperparamters with a validation data set separate from the test\n",
      "data set. Sklearn provides `GridSearchCV` to automate the optimization\n",
      "of hyperparamters using only the training data without using the test\n",
      "data.\n"
     ]
    },
    {
     "cell_type": "code",
     "collapsed": false,
     "input": [
      "from sklearn.grid_search import GridSearchCV\n",
      "\n",
      "tuned_parameters = [{'Nbin': Nbins}]\n",
      "\n",
      "def neg_mse(a, b):\n",
      "    return -mse(a, b)\n",
      "\n",
      "gridSearch = GridSearchCV(MKSRegressionModel(Nbin=10), tuned_parameters, cv=5, score_func=neg_mse)\n",
      "gridSearch.fit(X_train, y_train)\n",
      "\n",
      "print(gridSearch.best_estimator_)\n",
      "\n",
      "for params, mean_score, scores in gridSearch.grid_scores_:\n",
      "    print(\"%0.5f (+/-%0.5f) for %r\"% (mean_score, scores.std() / 2, params))\n",
      "\n",
      "y_true, y_pred = y_test, gridSearch.predict(X_test)\n",
      "print(mse(y_true, y_pred))"
     ],
     "language": "python",
     "metadata": {},
     "outputs": [
      {
       "output_type": "stream",
       "stream": "stdout",
       "text": [
        "MKSRegressionModel(Nbin=5)\n",
        "-0.02692 (+/-0.00017) for {'Nbin': 2}\n",
        "-0.02707 (+/-0.00016) for {'Nbin': 3}\n",
        "-0.02390 (+/-0.00018) for {'Nbin': 4}\n",
        "-0.02359 (+/-0.00017) for {'Nbin': 5}\n",
        "-0.02363 (+/-0.00017) for {'Nbin': 6}\n",
        "-0.02372 (+/-0.00017) for {'Nbin': 7}\n",
        "-0.02388 (+/-0.00017) for {'Nbin': 8}\n",
        "-0.02405 (+/-0.00016) for {'Nbin': 9}\n",
        "-0.02422 (+/-0.00016) for {'Nbin': 10}\n",
        "-0.02433 (+/-0.00015) for {'Nbin': 11}\n",
        "-0.02447 (+/-0.00015) for {'Nbin': 12}\n",
        "-0.02462 (+/-0.00016) for {'Nbin': 13}\n",
        "-0.02483 (+/-0.00016) for {'Nbin': 14}\n",
        "-0.02491 (+/-0.00016) for {'Nbin': 15}\n",
        "-0.02511 (+/-0.00013) for {'Nbin': 16}\n",
        "-0.02528 (+/-0.00016) for {'Nbin': 17}\n",
        "-0.02548 (+/-0.00015) for {'Nbin': 18}\n",
        "-0.02563 (+/-0.00013) for {'Nbin': 19}\n",
        "0.0237204829905"
       ]
      },
      {
       "output_type": "stream",
       "stream": "stdout",
       "text": [
        "\n"
       ]
      }
     ],
     "prompt_number": 21
    },
    {
     "cell_type": "code",
     "collapsed": false,
     "input": [],
     "language": "python",
     "metadata": {},
     "outputs": []
    }
   ],
   "metadata": {}
  }
 ]
}