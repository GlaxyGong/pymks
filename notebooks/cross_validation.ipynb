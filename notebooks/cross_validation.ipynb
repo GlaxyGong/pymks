{
 "metadata": {
  "name": ""
 },
 "nbformat": 3,
 "nbformat_minor": 0,
 "worksheets": [
  {
   "cells": [
    {
     "cell_type": "markdown",
     "metadata": {},
     "source": [
      "# Formalizing the MKS and cross validation.\n",
      "\n",
      "In this notebook, we will\n",
      "\n",
      " * formalize the MKS with the `MKSRegressionModel` class,\n",
      " \n",
      " * split the sample data into test and training sets,\n",
      " \n",
      " * optimize the `Nbin` hyperparameter,\n",
      " \n",
      " * learn to use [Sklearn](http://scikit-learn.org) to cross validate the model.\n",
      " \n",
      " \n",
      "Firstly, import the required modules.\n",
      " "
     ]
    },
    {
     "cell_type": "markdown",
     "metadata": {},
     "source": [
      "## Formalize the MKS\n",
      "\n",
      "Using the code from the previous tutorial as a basis, the Fourier space version of the MKS can be abstracted as a class. We subclass using the [Sklearn](http://scikit-learn.org) `LinearRegression` class. The `LinearRegression` class is convenient as it provides the correct interface for leveraging Sklearn's considerable infrastructure for machine learning. The most important methods required by an Sklearn regression model are `fit` and `predict`. The `MKSRegressionModel` class records the Fourier influence coefficients in the `coeff` attribute. For future reference, the class can be imported from `pymks`."
     ]
    },
    {
     "cell_type": "code",
     "collapsed": false,
     "input": [
      "import numpy as np\n",
      "from sklearn.linear_model import LinearRegression\n",
      "\n",
      "class MKSRegressionModel(LinearRegression):\n",
      "    def __init__(self, Nbin=10):\n",
      "        self.Nbin = Nbin\n",
      "        \n",
      "    def _bin(self, Xi):\n",
      "        H = np.linspace(0, 1, self.Nbin)\n",
      "        dh = H[1] - H[0]\n",
      "        return np.maximum(1 - abs(Xi[:,:,np.newaxis] - H) / dh, 0)\n",
      "        \n",
      "    def _binfft(self, X):\n",
      "        Xbin = np.array([self._bin(Xi) for Xi in X])\n",
      "        return np.fft.fft2(Xbin, axes=(1, 2))\n",
      "        \n",
      "    def fit(self, X, y):\n",
      "        Nsample, Nspace, Nspace = X.shape\n",
      "        assert y.shape == (Nsample, Nspace, Nspace)\n",
      "        FX = self._binfft(X)\n",
      "        Fy = np.fft.fft2(y, axes=(1, 2))\n",
      "        self.coeff = np.zeros((Nspace, Nspace, self.Nbin), dtype=np.complex)\n",
      "        for i in range(Nspace):\n",
      "            for j in range(Nspace):\n",
      "                self.coeff[i,j,:] = np.linalg.lstsq(FX[:,i,j,:], Fy[:,i,j])[0]\n",
      "                \n",
      "    def predict(self, X):\n",
      "        FX = self._binfft(X)\n",
      "        Fy = np.sum(FX * self.coeff[None,...], axis=-1)\n",
      "        return np.fft.ifft2(Fy, axes=(1, 2)).real"
     ],
     "language": "python",
     "metadata": {},
     "outputs": [],
     "prompt_number": 2
    },
    {
     "cell_type": "markdown",
     "metadata": {},
     "source": [
      "## Make the data\n",
      "\n",
      "Again, the `fipy_response` function is used to construct the sample data"
     ]
    },
    {
     "cell_type": "code",
     "collapsed": false,
     "input": [
      "from fipy.solvers.scipy.linearLUSolver import LinearLUSolver\n",
      "\n",
      "import fipy as fp\n",
      "\n",
      "def fipy_response(phi0, dt):\n",
      "    Nspace = phi0.shape[-1]\n",
      "    mesh = fp.PeriodicGrid2D(nx=Nspace, ny=Nspace, dx=0.25, dy=0.25)\n",
      "    phi = fp.CellVariable(name=r\"$\\phi$\", mesh=mesh, value=phi0.copy().flatten())\n",
      "    PHI = phi.arithmeticFaceValue\n",
      "    D = a = epsilon = 1.\n",
      "    eq = (fp.TransientTerm()\n",
      "      == fp.DiffusionTerm(coeff=D * a**2 * (1 - 6 * PHI * (1 - PHI)))\n",
      "      - fp.DiffusionTerm(coeff=(D, epsilon**2)))\n",
      "    \n",
      "    eq.solve(phi, dt=dt, solver=LinearLUSolver())\n",
      "    phi = np.array(phi).reshape((Nspace, Nspace))\n",
      "    return (np.array(phi) - phi0) / dt"
     ],
     "language": "python",
     "metadata": {},
     "outputs": [],
     "prompt_number": 3
    },
    {
     "cell_type": "markdown",
     "metadata": {},
     "source": [
      "Use a small function to deal with the looping."
     ]
    },
    {
     "cell_type": "code",
     "collapsed": false,
     "input": [
      "def make_MKS_data(Nsample, Nspace=20, dt=1e-3, seed=0):\n",
      "    np.random.seed(seed)\n",
      "    x = np.array([np.random.random((Nspace, Nspace)) for i in range(Nsample)])\n",
      "    y = np.array([fipy_response(xi, dt=dt) for xi in x])\n",
      "    return x, y"
     ],
     "language": "python",
     "metadata": {},
     "outputs": [],
     "prompt_number": 4
    },
    {
     "cell_type": "markdown",
     "metadata": {},
     "source": [
      "and make some actual data (200 samples) with a random seed of 0."
     ]
    },
    {
     "cell_type": "code",
     "collapsed": false,
     "input": [
      "X, y = make_MKS_data(400, seed=0)"
     ],
     "language": "python",
     "metadata": {},
     "outputs": [],
     "prompt_number": 5
    },
    {
     "cell_type": "markdown",
     "metadata": {},
     "source": [
      "## A sanity check\n",
      "\n",
      "Let's fit the data."
     ]
    },
    {
     "cell_type": "code",
     "collapsed": false,
     "input": [
      "model = MKSRegressionModel(Nbin=10)\n",
      "model.fit(X, y)"
     ],
     "language": "python",
     "metadata": {},
     "outputs": [],
     "prompt_number": 6
    },
    {
     "cell_type": "markdown",
     "metadata": {},
     "source": [
      "The `model` now knows its coefficients"
     ]
    },
    {
     "cell_type": "code",
     "collapsed": false,
     "input": [
      "model.coeff.shape"
     ],
     "language": "python",
     "metadata": {},
     "outputs": [
      {
       "metadata": {},
       "output_type": "pyout",
       "prompt_number": 7,
       "text": [
        "(20, 20, 10)"
       ]
      }
     ],
     "prompt_number": 7
    },
    {
     "cell_type": "markdown",
     "metadata": {},
     "source": [
      "Let's check that the fit sort of \"looks right\" with one test sample"
     ]
    },
    {
     "cell_type": "code",
     "collapsed": false,
     "input": [
      "X_test, y_test = make_MKS_data(1, seed=0)\n",
      "y_pred = model.predict(X_test)\n",
      "\n",
      "random.seed(2)\n",
      "index = np.random.randint(len(y_test.flatten()), size=10)\n",
      "print y_test.flatten()[index]\n",
      "print y_pred.flatten()[index]"
     ],
     "language": "python",
     "metadata": {},
     "outputs": [
      {
       "output_type": "stream",
       "stream": "stdout",
       "text": [
        "[-137.08556597  210.11993914 -294.45018937  127.61398277 -171.25923511\n",
        "  224.23166272  284.68426118 -442.06812304  -78.35326675  165.68815924]\n",
        "[-137.02016902  210.0668132  -294.46244303  127.39166894 -171.06300212\n",
        "  224.07088524  284.78225729 -442.24968085  -78.49068937  165.73089266]\n"
       ]
      }
     ],
     "prompt_number": 8
    },
    {
     "cell_type": "markdown",
     "metadata": {},
     "source": [
      "and check the \"mean square error\" using Sklearn's `mean_squared_error` function."
     ]
    },
    {
     "cell_type": "code",
     "collapsed": false,
     "input": [
      "from sklearn import metrics\n",
      "mse = metrics.mean_squared_error\n",
      "mse(y_test, y_pred)"
     ],
     "language": "python",
     "metadata": {},
     "outputs": [
      {
       "metadata": {},
       "output_type": "pyout",
       "prompt_number": 9,
       "text": [
        "0.026068203996029927"
       ]
      }
     ],
     "prompt_number": 9
    },
    {
     "cell_type": "markdown",
     "metadata": {},
     "source": [
      "Seems okay."
     ]
    },
    {
     "cell_type": "markdown",
     "metadata": {},
     "source": [
      "## Training and testing\n",
      "\n",
      "Now, let's use the Sklearn function `train_test_split` to split the data into training and test data sets. If we use the entire set\n",
      "of data for the fitting and leave nothing for testing, we have no idea if we are simply \"overfitting\" the data. Think of the analogy of using a high order polynomial\n",
      "to fit data points on a graph, while it may fit the data perfectly, we learn nothing as it is a useless model for fitting subsequently generated data.\n",
      "\n",
      "The argument `test_size=0.5` splits the data into equal sized chunks for training and testing."
     ]
    },
    {
     "cell_type": "code",
     "collapsed": false,
     "input": [
      "from sklearn.cross_validation import train_test_split\n",
      "\n",
      "X_train, X_test, y_train, y_test = train_test_split(X, y, test_size=0.5, random_state=1)"
     ],
     "language": "python",
     "metadata": {},
     "outputs": [],
     "prompt_number": 10
    },
    {
     "cell_type": "markdown",
     "metadata": {},
     "source": [
      "Let's refit the with the training data set only."
     ]
    },
    {
     "cell_type": "code",
     "collapsed": false,
     "input": [
      "model = MKSRegressionModel(Nbin=10)\n",
      "model.fit(X_train, y_train)"
     ],
     "language": "python",
     "metadata": {},
     "outputs": [],
     "prompt_number": 11
    },
    {
     "cell_type": "markdown",
     "metadata": {},
     "source": [
      "How well does it predict?"
     ]
    },
    {
     "cell_type": "code",
     "collapsed": false,
     "input": [
      "mse(model.predict(X_test), y_test)"
     ],
     "language": "python",
     "metadata": {},
     "outputs": [
      {
       "metadata": {},
       "output_type": "pyout",
       "prompt_number": 12,
       "text": [
        "0.02437887472240486"
       ]
      }
     ],
     "prompt_number": 12
    },
    {
     "cell_type": "markdown",
     "metadata": {},
     "source": [
      "The above is just one way to split the data. We may want to check with alternative splits of the data. This is easy using Sklearn's `cross_validation` module. Here we do `10` different splits and check the mean and standard deviation of the mean square error."
     ]
    },
    {
     "cell_type": "code",
     "collapsed": false,
     "input": [
      "from sklearn import cross_validation\n",
      "\n",
      "model = MKSRegressionModel(Nbin=10)\n",
      "scores = cross_validation.cross_val_score(model, X, y, score_func=mse, cv=10)\n",
      "print(\"MSE: %0.4f (+/- %0.4f)\" % (scores.mean(), scores.std()))"
     ],
     "language": "python",
     "metadata": {},
     "outputs": [
      {
       "output_type": "stream",
       "stream": "stdout",
       "text": [
        "MSE: 0.0238 (+/- 0.0008)\n"
       ]
      }
     ],
     "prompt_number": 13
    },
    {
     "cell_type": "markdown",
     "metadata": {},
     "source": [
      "## Optimize a hyperparameter.\n",
      "\n",
      "`Nbin` is known as a hyperparameter. Hyperparameters are parameters that influence the fitting, but are separate from the data and the parameters used to generate the data.\n",
      "\n",
      "In this example, increasing `Nbin` results in an improved fit. "
     ]
    },
    {
     "cell_type": "code",
     "collapsed": false,
     "input": [
      "import matplotlib.pyplot as plt\n",
      "\n",
      "mse = metrics.mean_squared_error\n",
      "\n",
      "Nbins = np.arange(2, 20)\n",
      "\n",
      "errors = []\n",
      "\n",
      "for Nbin in Nbins:\n",
      "    model = MKSRegressionModel(Nbin=Nbin)\n",
      "    model.fit(X, y)\n",
      "    errors.append(mse(model.predict(X), y))\n",
      "    \n",
      "plt.plot(Nbins, errors)\n",
      "plt.xlabel('Nbin')\n",
      "plt.ylabel('MSE')"
     ],
     "language": "python",
     "metadata": {},
     "outputs": [
      {
       "metadata": {},
       "output_type": "pyout",
       "prompt_number": 14,
       "text": [
        "<matplotlib.text.Text at 0x4dbc7d0>"
       ]
      },
      {
       "metadata": {},
       "output_type": "display_data",
       "png": "[encoded data removed]",
       "text": [
        "<matplotlib.figure.Figure at 0x4f6eb50>"
       ]
      }
     ],
     "prompt_number": 14
    },
    {
     "cell_type": "markdown",
     "metadata": {},
     "source": [
      "However, the test data does not improve as `Nbin` increases."
     ]
    },
    {
     "cell_type": "code",
     "collapsed": false,
     "input": [
      "errors = []\n",
      "\n",
      "for Nbin in Nbins:\n",
      "    model = MKSRegressionModel(Nbin=Nbin)\n",
      "    model.fit(X_train, y_train)\n",
      "    errors.append(mse(model.predict(X_test), y_test))\n",
      "    \n",
      "plt.plot(Nbins, errors)\n",
      "plt.xlabel('Nbin')\n",
      "plt.ylabel('MSE')"
     ],
     "language": "python",
     "metadata": {},
     "outputs": [
      {
       "metadata": {},
       "output_type": "pyout",
       "prompt_number": 16,
       "text": [
        "<matplotlib.text.Text at 0x4c7ad50>"
       ]
      },
      {
       "metadata": {},
       "output_type": "display_data",
       "png": "[encoded data removed]",
       "text": [
        "<matplotlib.figure.Figure at 0x49ec150>"
       ]
      }
     ],
     "prompt_number": 16
    },
    {
     "cell_type": "code",
     "collapsed": false,
     "input": [
      "print 'Optimal value of Nbin: %i, MSE: %0.4f' % (Nbins[np.argmin(errors)], min(errors))"
     ],
     "language": "python",
     "metadata": {},
     "outputs": [
      {
       "output_type": "stream",
       "stream": "stdout",
       "text": [
        "Optimal value of Nbin: 6, MSE: 0.0240\n"
       ]
      }
     ],
     "prompt_number": 19
    },
    {
     "cell_type": "markdown",
     "metadata": {},
     "source": [
      "## Training, validation and test data for hyperparameter optimization\n",
      "\n",
      "Using the test data to optimize hyperparameter leads to test data\n",
      "knowledge leaking into the model. A way to avoid this is to optimize\n",
      "the hyperparamters with a validation data set separate from the test\n",
      "data set. Sklearn provides `GridSearchCV` to automate the optimization\n",
      "of hyperparamters using only the training data without using the test\n",
      "data.\n"
     ]
    },
    {
     "cell_type": "code",
     "collapsed": false,
     "input": [
      "from sklearn.grid_search import GridSearchCV\n",
      "\n",
      "tuned_parameters = [{'Nbin': Nbins}]\n",
      "\n",
      "def neg_mse(a, b):\n",
      "    return -mse(a, b)\n",
      "\n",
      "gridSearch = GridSearchCV(MKSRegressionModel(Nbin=10), tuned_parameters, cv=5, score_func=neg_mse)\n",
      "gridSearch.fit(X_train, y_train)\n",
      "\n",
      "print(gridSearch.best_estimator_)\n",
      "\n",
      "for params, mean_score, scores in gridSearch.grid_scores_:\n",
      "    print(\"%0.5f (+/-%0.5f) for %r\"% (mean_score, scores.std() / 2, params))\n",
      "\n",
      "y_true, y_pred = y_test, gridSearch.predict(X_test)\n",
      "print(mse(y_true, y_pred))"
     ],
     "language": "python",
     "metadata": {},
     "outputs": [
      {
       "output_type": "stream",
       "stream": "stdout",
       "text": [
        "MKSRegressionModel(Nbin=5)\n",
        "-0.02726 (+/-0.00049) for {'Nbin': 2}\n",
        "-0.02742 (+/-0.00047) for {'Nbin': 3}\n",
        "-0.02432 (+/-0.00044) for {'Nbin': 4}\n",
        "-0.02396 (+/-0.00041) for {'Nbin': 5}\n",
        "-0.02402 (+/-0.00046) for {'Nbin': 6}\n",
        "-0.02411 (+/-0.00042) for {'Nbin': 7}\n",
        "-0.02428 (+/-0.00043) for {'Nbin': 8}\n",
        "-0.02447 (+/-0.00042) for {'Nbin': 9}\n",
        "-0.02460 (+/-0.00043) for {'Nbin': 10}\n",
        "-0.02473 (+/-0.00043) for {'Nbin': 11}\n",
        "-0.02492 (+/-0.00042) for {'Nbin': 12}\n",
        "-0.02511 (+/-0.00039) for {'Nbin': 13}\n",
        "-0.02526 (+/-0.00039) for {'Nbin': 14}\n",
        "-0.02546 (+/-0.00041) for {'Nbin': 15}\n",
        "-0.02560 (+/-0.00040) for {'Nbin': 16}\n",
        "-0.02584 (+/-0.00040) for {'Nbin': 17}\n",
        "-0.02595 (+/-0.00040) for {'Nbin': 18}\n",
        "-0.02622 (+/-0.00042) for {'Nbin': 19}\n",
        "0.0240259351315"
       ]
      },
      {
       "output_type": "stream",
       "stream": "stdout",
       "text": [
        "\n"
       ]
      }
     ],
     "prompt_number": 24
    }
   ],
   "metadata": {}
  }
 ]
}