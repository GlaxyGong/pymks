{
 "metadata": {
  "name": ""
 },
 "nbformat": 3,
 "nbformat_minor": 0,
 "worksheets": [
  {
   "cells": [
    {
     "cell_type": "markdown",
     "metadata": {},
     "source": [
      "# Introductury Tutorial to Calculate MKS Influence Coefficients in Reciprocal Space\n",
      "\n",
      "The following notebook is an introductury tutorial describing how to calculate influence coefficients in the MKS in both real and reciprocal space. The MKS relationship is given by,\n",
      "\n",
      "$ p_{k,i} = \\alpha_j^l m_{k,i + j}^l $\n",
      "\n",
      "where the $p_{k,i}$ are the responses, $\\alpha_i^l$ are the influence coefficients and $m_{k,i}^l$ are the discretized microstructure. The $i$ and $j$ indices run over the spatial discretization, the $k$ index runs over the number of samples and the $l$ index runs over the microstructure discretization.\n",
      "\n"
     ]
    },
    {
     "cell_type": "markdown",
     "metadata": {},
     "source": [
      "## Calculating the Response"
     ]
    },
    {
     "cell_type": "markdown",
     "metadata": {},
     "source": [
      "In the MKS a sample set of microstructres and responses are required. In this example we will use the Cahn-Hilliard equation to provide the example repsonse. [FiPy](http://www.ctcms.nist.gov/fipy/) is used to solve the governing eequation, which is given by,\n",
      "\n",
      "$ \\frac{\\partial \\phi}{\\partial t} = \\nabla \\cdot D \\nabla \\left( \\frac{\\partial f}{\\partial \\phi}   - \\epsilon^2 \\nabla^2 \\phi \\right).$\n",
      "\n",
      "where the free enery is given by,\n",
      "\n",
      "$ f = (a^2/2) \\phi^2 (1 - \\phi)^2 $\n",
      "\n",
      "In this example $D = 1$ and $a = 1$. See [the FiPy CH example](http://www.ctcms.nist.gov/fipy/examples/cahnHilliard/generated/examples.cahnHilliard.mesh2DCoupled.html) for further details.\n",
      "\n",
      "The `fipy_response` function takes an initial field, $\\phi_0$ (the microstructure), and returns $\\frac{\\partial \\phi}{\\partial t}$ (the response). "
     ]
    },
    {
     "cell_type": "code",
     "collapsed": false,
     "input": [
      "import numpy as np\n",
      "import fipy as fp\n",
      "import pylab as plt\n",
      "\n",
      "np.random.seed(3985)"
     ],
     "language": "python",
     "metadata": {},
     "outputs": [],
     "prompt_number": 2
    },
    {
     "cell_type": "code",
     "collapsed": false,
     "input": [
      "def fipy_response(phi0, dt, N):\n",
      "    nx = ny = N\n",
      "    mesh = fp.PeriodicGrid2D(nx=nx, ny=ny, dx=0.25, dy=0.25)\n",
      "    phi = fp.CellVariable(name=r\"$\\phi$\", mesh=mesh, value=phi0.copy())\n",
      "    PHI = phi.arithmeticFaceValue\n",
      "    D = a = epsilon = 1.\n",
      "    eq = (fp.TransientTerm()\n",
      "      == fp.DiffusionTerm(coeff=D * a**2 * (1 - 6 * PHI * (1 - PHI)))\n",
      "      - fp.DiffusionTerm(coeff=(D, epsilon**2)))\n",
      "    \n",
      "    eq.solve(phi, dt=dt, solver=fp.LinearLUSolver())\n",
      "    \n",
      "    return (np.array(phi) - phi0) / dt\n",
      "    \n"
     ],
     "language": "python",
     "metadata": {},
     "outputs": [],
     "prompt_number": 3
    },
    {
     "cell_type": "markdown",
     "metadata": {},
     "source": [
      "## Deomonstrate Cahn-Hilliard Evolution"
     ]
    },
    {
     "cell_type": "markdown",
     "metadata": {},
     "source": [
      "The following cell iterates the `fipy_response` function to demonstrate the evolution of the microstructure for an initially uniform random field. Using the `fipy_response` function is quite an inefficient method of using [FiPy](http://www.ctcms.nist.gov/fipy/), but useful for these demonstration purposes."
     ]
    },
    {
     "cell_type": "code",
     "collapsed": false,
     "input": [
      "from IPython.display import clear_output\n",
      "import time\n",
      "\n",
      "N = 10\n",
      "phi0 = np.random.random(N * N)\n",
      "dt = 1e-3\n",
      "\n",
      "fig = plt.figure()\n",
      "\n",
      "for i in range(100):\n",
      "    response = fipy_response(phi0, dt=dt, N=N)\n",
      "    #Euler forward\n",
      "    phi0 = response * dt + phi0\n",
      "    #print phi0\n",
      "    plt.contourf(phi0.reshape((N,N)))\n",
      "    time.sleep(1)\n",
      "    clear_output()\n",
      "    display(fig)"
     ],
     "language": "python",
     "metadata": {},
     "outputs": [
      {
       "metadata": {},
       "output_type": "display_data",
       "png": "[encoded data removed]",
       "text": [
        "<matplotlib.figure.Figure at 0x711a5d0>"
       ]
      },
      {
       "metadata": {},
       "output_type": "display_data",
       "png": "[encoded data removed]",
       "text": [
        "<matplotlib.figure.Figure at 0x711a5d0>"
       ]
      }
     ],
     "prompt_number": 112
    },
    {
     "cell_type": "markdown",
     "metadata": {},
     "source": [
      "## Create Samples\n",
      "\n",
      "Using the `fipy_response` function, we can now create a sample set of microstructures and responses. We create `Nsample` microstrucures over a 2D space of $N \\times N$. We choose a very small system to first demonstrate the linear regression in real space."
     ]
    },
    {
     "cell_type": "code",
     "collapsed": false,
     "input": [
      "N = 10\n",
      "Nbin = 6\n",
      "Nsample = 5\n",
      "dt = 1e-3\n",
      "\n",
      "microstructures = np.array([np.random.random(N**2) for i in range(Nsample)])\n",
      "responses = np.array([fipy_response(m, dt=dt, N=N) for m in microstructures])\n",
      "print microstructures.shape\n",
      "print responses.shape"
     ],
     "language": "python",
     "metadata": {},
     "outputs": [
      {
       "output_type": "stream",
       "stream": "stdout",
       "text": [
        "(5, 100)\n",
        "(5, 100)\n"
       ]
      }
     ],
     "prompt_number": 5
    },
    {
     "cell_type": "markdown",
     "metadata": {},
     "source": [
      "## Bin the Microstructure"
     ]
    },
    {
     "cell_type": "markdown",
     "metadata": {},
     "source": [
      "The function `bin`, discretizes the original microstructure $M$ into a binned microstructure $m$, given by\n",
      "\n",
      "  $M_{k, i} = m_{k, i}^l h^l$\n",
      "  \n",
      "where $h^l$ is the linear space for the discretization. The `bin` function takes $M$ and returns $m$."
     ]
    },
    {
     "cell_type": "code",
     "collapsed": false,
     "input": [
      "def bin(m, N):\n",
      "    H = np.linspace(0, 1, N)\n",
      "    dh = H[1] - H[0]\n",
      "    return np.maximum(1 - abs(m[:,np.newaxis] - H) / dh, 0)"
     ],
     "language": "python",
     "metadata": {},
     "outputs": [],
     "prompt_number": 6
    },
    {
     "cell_type": "markdown",
     "metadata": {},
     "source": [
      "Run `bin` for each microstructure and rebuild the array (maybe this operation could be vectorized)."
     ]
    },
    {
     "cell_type": "code",
     "collapsed": false,
     "input": [
      "binnedMicrostructures = np.array([bin(m, Nbin) for m in microstructures])\n",
      "print binnedMicrostructures.shape"
     ],
     "language": "python",
     "metadata": {},
     "outputs": [
      {
       "output_type": "stream",
       "stream": "stdout",
       "text": [
        "(5, 100, 6)\n"
       ]
      }
     ],
     "prompt_number": 7
    },
    {
     "cell_type": "markdown",
     "metadata": {},
     "source": [
      "The new `binnedMicrostructures` ($m_{k,i}^l$) has a shape of `(Nsample, N*N, Nbin)`. To double check that the binning worked we can evaluate $m_{k, i}^l h^l$ and check against the original $M_{k,i}$. The summation is over the last axis (the binning axis)."
     ]
    },
    {
     "cell_type": "code",
     "collapsed": false,
     "input": [
      "H = np.linspace(0, 1, Nbin)\n",
      "reconstructedMicrostructure = np.sum(binnedMicrostructures * H[np.newaxis, np.newaxis, :], axis=-1)\n",
      "print np.allclose(reconstructedMicrostructure, microstructures)"
     ],
     "language": "python",
     "metadata": {},
     "outputs": [
      {
       "output_type": "stream",
       "stream": "stdout",
       "text": [
        "True\n"
       ]
      }
     ],
     "prompt_number": 8
    },
    {
     "cell_type": "markdown",
     "metadata": {},
     "source": [
      "## Real space\n",
      "\n",
      "In order to understand how to compute the influence coefficients it is useful to see a deomonstration in real space. Although we have a tensor representations of $m_{k, i}^l$, we need to create an intermediate matrix to calculate the dot product, $m_{k, i + j}^l \\alpha_i^l$. This matrix representation of $m$ is given by the `microstructureMatirix` and has shape `(N*N*Nsample, N*N*Nbin)`"
     ]
    },
    {
     "cell_type": "code",
     "collapsed": false,
     "input": [
      "def rollMatrix(m, N, Nbin):\n",
      "    matrix = np.zeros((N**2, N**2 * Nbin))\n",
      "    for i in range(N**2):\n",
      "        matrix[i] = np.roll(m, -i, axis=0).swapaxes(0,1).flatten()\n",
      "    return matrix\n",
      "\n",
      "microstructureMatrix = np.concatenate([rollMatrix(m, N, Nbin) for m in binnedMicrostructures])\n",
      "\n",
      "print microstructureMatrix.shape\n"
     ],
     "language": "python",
     "metadata": {},
     "outputs": [
      {
       "output_type": "stream",
       "stream": "stdout",
       "text": [
        "(500, 600)\n"
       ]
      }
     ],
     "prompt_number": 13
    },
    {
     "cell_type": "markdown",
     "metadata": {},
     "source": [
      "To calculate the influence coefficients, $\\alpha_j^l$, we use `numpy`'s `lstsq` function."
     ]
    },
    {
     "cell_type": "code",
     "collapsed": false,
     "input": [
      "responses = responses.flatten()\n",
      "coefficients = np.linalg.lstsq(microstructureMatrix, responses)[0]\n",
      "print coefficients.shape"
     ],
     "language": "python",
     "metadata": {},
     "outputs": [
      {
       "output_type": "stream",
       "stream": "stdout",
       "text": [
        "(600,)\n"
       ]
      }
     ],
     "prompt_number": 14
    },
    {
     "cell_type": "markdown",
     "metadata": {},
     "source": [
      "If `Nbin > Nsample` then we can check that the influence coeffiencts exacly reproduce the `responses`. The result below should be `True` for an \"overfit\"."
     ]
    },
    {
     "cell_type": "code",
     "collapsed": false,
     "input": [
      "print np.allclose(np.dot(microstructureMatrix, coefficients), responses)"
     ],
     "language": "python",
     "metadata": {},
     "outputs": [
      {
       "output_type": "stream",
       "stream": "stdout",
       "text": [
        "True\n"
       ]
      }
     ],
     "prompt_number": 15
    },
    {
     "cell_type": "markdown",
     "metadata": {},
     "source": [
      "## Hack to see how convolution works in numpy and see whether it can replace the `rollMatrix` functions\n",
      "\n",
      " * Try `toeplitz` as well"
     ]
    },
    {
     "cell_type": "code",
     "collapsed": false,
     "input": [
      "import scipy.signal as sg\n",
      "\n",
      "sg.convolve2d(np.arange(9).reshape((3,3)), -np.ones(9).reshape((3,3)) * 1)"
     ],
     "language": "python",
     "metadata": {},
     "outputs": [
      {
       "metadata": {},
       "output_type": "pyout",
       "prompt_number": 26,
       "text": [
        "array([[  0.,  -1.,  -3.,  -3.,  -2.],\n",
        "       [ -3.,  -8., -15., -12.,  -7.],\n",
        "       [ -9., -21., -36., -27., -15.],\n",
        "       [ -9., -20., -33., -24., -13.],\n",
        "       [ -6., -13., -21., -15.,  -8.]])"
       ]
      }
     ],
     "prompt_number": 26
    },
    {
     "cell_type": "code",
     "collapsed": false,
     "input": [
      "import scipy.ndimage.filters\n",
      "from scipy.ndimage.filters import convolve\n",
      "\n",
      "convolve(np.arange(3).reshape((3, 1)), np.ones((1, 3)), mode='wrap')"
     ],
     "language": "python",
     "metadata": {},
     "outputs": [
      {
       "metadata": {},
       "output_type": "pyout",
       "prompt_number": 5,
       "text": [
        "array([[0],\n",
        "       [3],\n",
        "       [6]])"
       ]
      }
     ],
     "prompt_number": 5
    },
    {
     "cell_type": "markdown",
     "metadata": {},
     "source": [
      "$ p_{k,i} = \\alpha_j^l m_{k,i + j}^l $\n",
      "\n",
      "$ C_i = \\Sigma_j I_{i + j - k} W_j $"
     ]
    },
    {
     "cell_type": "code",
     "collapsed": false,
     "input": [
      "f = [1,2,3]\n",
      "g = [0, 1, 0.5]\n",
      "\n",
      "ans = np.zeros(5)\n",
      "\n",
      "f(m) g (n-m)\n",
      "        \n",
      "n=0 m=0     m=1\n",
      "    0 * 1               =0\n",
      "n=1 m=0   m=1     m=2\n",
      "    1 * 1 + 2 * 0 =1\n",
      "n=2 m=0     m=1     m=2\n",
      "    1 * 0.5 + 2 * 1 + 3 * 0 = 2.5\n",
      "        \n"
     ],
     "language": "python",
     "metadata": {},
     "outputs": []
    },
    {
     "cell_type": "code",
     "collapsed": false,
     "input": [
      "np.convolve([1, 2, 3], [0, 1, 0.5])"
     ],
     "language": "python",
     "metadata": {},
     "outputs": [
      {
       "metadata": {},
       "output_type": "pyout",
       "prompt_number": 21,
       "text": [
        "array([ 0. ,  1. ,  2.5,  4. ,  1.5])"
       ]
      }
     ],
     "prompt_number": 21
    },
    {
     "cell_type": "markdown",
     "metadata": {},
     "source": [
      "## Reciprocal Space"
     ]
    },
    {
     "cell_type": "code",
     "collapsed": false,
     "input": [
      "N = 20\n",
      "Nbin = 101\n",
      "Nsample = 160\n",
      "dt = 1e-3\n",
      "\n",
      "microstructures = np.array([np.random.random(N**2) for i in range(Nsample)])\n",
      "responses = np.array([fipy_response(m, dt=dt, N=N) for m in microstructures])\n",
      "binnedMicrostructures = np.array([bin(m, Nbin) for m in microstructures])\n",
      "print microstructures.shape\n",
      "print responses.shape"
     ],
     "language": "python",
     "metadata": {},
     "outputs": [
      {
       "output_type": "stream",
       "stream": "stdout",
       "text": [
        "(160, 400)\n",
        "(160, 400)\n"
       ]
      }
     ],
     "prompt_number": 320
    },
    {
     "cell_type": "code",
     "collapsed": false,
     "input": [
      "microstructuresRS = binnedMicrostructures.reshape((Nsample, N, N, Nbin))\n",
      "responsesRS = responses.reshape((Nsample, N, N))\n",
      "fourierMicrostructures = np.fft.fft2(microstructuresRS, axes=(1, 2))\n",
      "fourierResponses = np.fft.fft2(responsesRS, axes=(1, 2))"
     ],
     "language": "python",
     "metadata": {},
     "outputs": [],
     "prompt_number": 321
    },
    {
     "cell_type": "code",
     "collapsed": false,
     "input": [
      "fourierCoefficients = np.zeros((N, N, Nbin), dtype=np.complex)"
     ],
     "language": "python",
     "metadata": {},
     "outputs": [],
     "prompt_number": 322
    },
    {
     "cell_type": "code",
     "collapsed": false,
     "input": [
      "for ii in range(N):\n",
      "    for jj in range(N):\n",
      "        a = fourierMicrostructures[:,ii,jj,:]\n",
      "        fourierCoefficients[ii,jj,:] = np.linalg.lstsq(a, fourierResponses[:,ii,jj] )[0]\n",
      "        "
     ],
     "language": "python",
     "metadata": {},
     "outputs": [],
     "prompt_number": 323
    },
    {
     "cell_type": "code",
     "collapsed": false,
     "input": [
      "reconstructedResponses = np.sum(fourierMicrostructures * fourierCoefficients[np.newaxis], axis=-1)"
     ],
     "language": "python",
     "metadata": {},
     "outputs": [],
     "prompt_number": 324
    },
    {
     "cell_type": "code",
     "collapsed": false,
     "input": [
      "print np.allclose(responsesRS, np.fft.ifft2(reconstructedResponses, axes=(1, 2)))"
     ],
     "language": "python",
     "metadata": {},
     "outputs": [
      {
       "output_type": "stream",
       "stream": "stdout",
       "text": [
        "False\n"
       ]
      }
     ],
     "prompt_number": 325
    },
    {
     "cell_type": "markdown",
     "metadata": {},
     "source": [
      "# Test data"
     ]
    },
    {
     "cell_type": "code",
     "collapsed": false,
     "input": [
      "test_microstructure = np.random.random(N**2)\n",
      "test_response = fipy_response(test_microstructure, dt=dt, N=N)"
     ],
     "language": "python",
     "metadata": {},
     "outputs": [],
     "prompt_number": 326
    },
    {
     "cell_type": "code",
     "collapsed": false,
     "input": [
      "binned_test_microstructure = bin(test_microstructure, Nbin).reshape((N, N, Nbin))\n",
      "Fm = np.fft.fft2(binned_test_microstructure, axes=(0, 1))\n",
      "Fr = np.sum(Fm * fourierCoefficients, axis=-1)"
     ],
     "language": "python",
     "metadata": {},
     "outputs": [],
     "prompt_number": 327
    },
    {
     "cell_type": "code",
     "collapsed": false,
     "input": [
      "calc_response = np.fft.ifft2(Fr, axes=(0, 1)).real.flatten()"
     ],
     "language": "python",
     "metadata": {},
     "outputs": [],
     "prompt_number": 328
    },
    {
     "cell_type": "code",
     "collapsed": false,
     "input": [
      "print test_response[:20]\n",
      "print calc_response[:20]"
     ],
     "language": "python",
     "metadata": {},
     "outputs": [
      {
       "output_type": "stream",
       "stream": "stdout",
       "text": [
        "[  44.70555775 -115.99904314  352.87504566 -199.67986509  -95.44827546\n",
        " -296.99313466  264.96337138 -108.77649985  302.89796549 -382.5044879\n",
        "  161.60278716 -303.8481895    20.22111637  225.7253995    74.86691577\n",
        "   97.47908318 -301.83960262  -27.88704394  205.40232682 -176.3549055 ]\n",
        "[  45.19840469 -115.5655436   353.04587537 -199.63863608  -95.50705056\n",
        " -297.17827309  264.57334593 -108.69840827  303.1056773  -382.85666203\n",
        "  161.46199188 -303.41836975   20.51048302  225.56720761   74.60338875\n",
        "   97.26331169 -301.67085904  -27.54420386  205.37150845 -176.36636012]\n"
       ]
      }
     ],
     "prompt_number": 329
    },
    {
     "cell_type": "code",
     "collapsed": false,
     "input": [
      "print np.sqrt(np.sum((calc_response - test_response)**2))"
     ],
     "language": "python",
     "metadata": {},
     "outputs": [
      {
       "output_type": "stream",
       "stream": "stdout",
       "text": [
        "4.95183233037\n"
       ]
      }
     ],
     "prompt_number": 330
    },
    {
     "cell_type": "code",
     "collapsed": false,
     "input": [],
     "language": "python",
     "metadata": {},
     "outputs": []
    }
   ],
   "metadata": {}
  }
 ]
}