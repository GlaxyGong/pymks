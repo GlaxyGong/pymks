{
 "metadata": {
  "name": ""
 },
 "nbformat": 3,
 "nbformat_minor": 0,
 "worksheets": [
  {
   "cells": [
    {
     "cell_type": "code",
     "collapsed": false,
     "input": [
      "%load_ext autoreload\n",
      "%autoreload 2\n",
      "\n",
      "\n",
      "from pymks import MKSRegressionModel\n",
      "from sklearn import metrics\n",
      "mse = metrics.mean_squared_error\n",
      "\n",
      "Nbin = 2\n",
      "Nspace = 88\n",
      "Nsample = 400\n",
      "\n",
      "def filter(x):\n",
      "    return np.where(x < 10,\n",
      "    np.exp(-abs(x)) * np.cos(x * np.pi),\n",
      "    np.exp(-abs(x - 20)) * np.cos((x - 20) * np.pi))\n",
      "\n",
      "# Use the filter function to construct some coefficients.\n",
      "\n",
      "coeff = np.linspace(1, 0, Nbin)[None,:] * filter(np.linspace(0, 20, Nspace))[:,None]\n",
      "Fcoeff = np.fft.fft(coeff, axis=0)\n",
      "\n",
      "# Make some test samples.\n",
      "\n",
      "np.random.seed(2)\n",
      "X = np.random.random((Nsample, Nspace))\n",
      "\n",
      "# Construct a response with the `Fcoeff`.\n",
      "\n",
      "H = np.linspace(0, 1, Nbin)\n",
      "X_ = np.maximum(1 - abs(X[:,:,None] - H) / (H[1] - H[0]), 0)\n",
      "FX = np.fft.fft(X_, axis=1)\n",
      "Fy = np.sum(Fcoeff[None] * FX, axis=-1)\n",
      "y = np.fft.ifft(Fy, axis=1).real\n",
      "\n",
      "# Use the `MKSRegressionModel` to reconstruct the coefficients\n",
      "\n",
      "model = MKSRegressionModel(Nbin=Nbin)\n",
      "model.fit(X, y)\n",
      "model.coeff = np.fft.ifft(model.Fcoeff, axis=0)\n",
      "\n",
      "# Check the result\n",
      "    \n",
      "print mse(coeff, model.coeff)"
     ],
     "language": "python",
     "metadata": {},
     "outputs": [
      {
       "output_type": "stream",
       "stream": "stdout",
       "text": [
        "The autoreload extension is already loaded. To reload it, use:\n",
        "  %reload_ext autoreload\n",
        "(7.31200652615e-32+1.9181999373e-32j)"
       ]
      },
      {
       "output_type": "stream",
       "stream": "stdout",
       "text": [
        "\n"
       ]
      }
     ],
     "prompt_number": 42
    },
    {
     "cell_type": "code",
     "collapsed": false,
     "input": [
      "np.all"
     ],
     "language": "python",
     "metadata": {},
     "outputs": [
      {
       "metadata": {},
       "output_type": "pyout",
       "prompt_number": 43,
       "text": [
        "<function numpy.core.fromnumeric.all>"
       ]
      }
     ],
     "prompt_number": 43
    },
    {
     "cell_type": "code",
     "collapsed": false,
     "input": [
      "coeff.shape"
     ],
     "language": "python",
     "metadata": {},
     "outputs": [
      {
       "metadata": {},
       "output_type": "pyout",
       "prompt_number": 44,
       "text": [
        "(88, 2)"
       ]
      }
     ],
     "prompt_number": 44
    },
    {
     "cell_type": "code",
     "collapsed": false,
     "input": [
      "plt.plot(coeff[:,1])\n",
      "plt.plot(model.coeff[:,1])"
     ],
     "language": "python",
     "metadata": {},
     "outputs": [
      {
       "metadata": {},
       "output_type": "pyout",
       "prompt_number": 45,
       "text": [
        "[<matplotlib.lines.Line2D at 0x53f4e90>]"
       ]
      },
      {
       "metadata": {},
       "output_type": "display_data",
       "png": "[encoded data removed]",
       "text": [
        "<matplotlib.figure.Figure at 0x60ebe50>"
       ]
      }
     ],
     "prompt_number": 45
    },
    {
     "cell_type": "code",
     "collapsed": false,
     "input": [],
     "language": "python",
     "metadata": {},
     "outputs": []
    }
   ],
   "metadata": {}
  }
 ]
}