{
 "metadata": {
  "name": ""
 },
 "nbformat": 3,
 "nbformat_minor": 0,
 "worksheets": [
  {
   "cells": [
    {
     "cell_type": "code",
     "collapsed": false,
     "input": [
      "%load_ext autoreload\n",
      "%autoreload 2\n",
      "\n",
      "from pymks import MKSRegressionModel\n",
      "from pymks import FiPyCHModel\n",
      "import numpy as np\n",
      "\n",
      "np.random.seed(101)\n",
      "X = np.random.random((400, 21, 21))\n",
      "fipymodel = FiPyCHModel(dx=0.25, dy=0.25, dt=1e-3)\n",
      "y = fipymodel.predict(X)"
     ],
     "language": "python",
     "metadata": {},
     "outputs": [
      {
       "output_type": "stream",
       "stream": "stdout",
       "text": [
        "The autoreload extension is already loaded. To reload it, use:\n",
        "  %reload_ext autoreload\n"
       ]
      }
     ],
     "prompt_number": 178
    },
    {
     "cell_type": "code",
     "collapsed": false,
     "input": [
      "plt.contourf(y[0])"
     ],
     "language": "python",
     "metadata": {},
     "outputs": [
      {
       "metadata": {},
       "output_type": "pyout",
       "prompt_number": 179,
       "text": [
        "<matplotlib.contour.QuadContourSet instance at 0x12aa8f38>"
       ]
      },
      {
       "metadata": {},
       "output_type": "display_data",
       "png": "[encoded data removed]",
       "text": [
        "<matplotlib.figure.Figure at 0x123ff350>"
       ]
      }
     ],
     "prompt_number": 179
    },
    {
     "cell_type": "code",
     "collapsed": false,
     "input": [
      "model = MKSRegressionModel(Nbin=200)\n",
      "model.fit(X, y)"
     ],
     "language": "python",
     "metadata": {},
     "outputs": [
      {
       "output_type": "stream",
       "stream": "stdout",
       "text": [
        "(0, 0)\n"
       ]
      }
     ],
     "prompt_number": 182
    },
    {
     "cell_type": "code",
     "collapsed": false,
     "input": [
      "from sklearn import metrics\n",
      "mse = metrics.mean_squared_error\n",
      "\n",
      "X_test = np.random.random((1, 21, 21))\n",
      "y_test = fipymodel.predict(X_test)\n",
      "y_pred = model.predict(X_test)\n",
      "print mse(model.predict(X_test), y_test)"
     ],
     "language": "python",
     "metadata": {},
     "outputs": [
      {
       "output_type": "stream",
       "stream": "stdout",
       "text": [
        "0.0453273613418\n"
       ]
      }
     ],
     "prompt_number": 183
    },
    {
     "cell_type": "code",
     "collapsed": false,
     "input": [
      "coeff = np.fft.ifftn(model.Fcoeff, axes=(0, 1))"
     ],
     "language": "python",
     "metadata": {},
     "outputs": [],
     "prompt_number": 184
    },
    {
     "cell_type": "code",
     "collapsed": false,
     "input": [
      "?plt.contourf"
     ],
     "language": "python",
     "metadata": {},
     "outputs": [],
     "prompt_number": 194
    },
    {
     "cell_type": "code",
     "collapsed": false,
     "input": [
      "\n",
      "\n",
      "pc = np.roll(np.roll(coeff[:,:,0], 10, axis=0), 10, axis=1)\n",
      "\n",
      "print pc[8:13,8:13].real\n",
      "plt.contourf(pc.real, 250)\n",
      "plt.colorbar()"
     ],
     "language": "python",
     "metadata": {},
     "outputs": [
      {
       "output_type": "stream",
       "stream": "stdout",
       "text": [
        "[[   2.1981239    -7.93213696  -23.55163524   -7.92871147    2.19710771]\n",
        " [  -7.92831556  -49.15905714 -114.06636862  -49.16948823   -7.91926591]\n",
        " [ -23.55755504 -114.08865734  703.79413103 -114.09506356  -23.5692094 ]\n",
        " [  -7.93630116  -49.19060739 -114.08787967  -49.17900342   -7.94443908]\n",
        " [   2.19295755   -7.92394475  -23.56645147   -7.92445615    2.23656049]]\n"
       ]
      },
      {
       "metadata": {},
       "output_type": "pyout",
       "prompt_number": 197,
       "text": [
        "<matplotlib.colorbar.Colorbar instance at 0x14c29320>"
       ]
      },
      {
       "metadata": {},
       "output_type": "display_data",
       "png": "[encoded data removed]",
       "text": [
        "<matplotlib.figure.Figure at 0x1448fc50>"
       ]
      }
     ],
     "prompt_number": 197
    },
    {
     "cell_type": "code",
     "collapsed": false,
     "input": [
      "%load_ext autoreload\n",
      "%autoreload 2\n",
      "\n",
      "from pymks import MKSRegressionModelSlow\n",
      "from pymks import FiPyCHModel\n",
      "import numpy as np\n",
      "\n",
      "X = np.random.random((8, 10, 10))\n",
      "y = FiPyCHModel(dt=1e-4).predict(X)"
     ],
     "language": "python",
     "metadata": {},
     "outputs": [
      {
       "output_type": "stream",
       "stream": "stdout",
       "text": [
        "The autoreload extension is already loaded. To reload it, use:\n",
        "  %reload_ext autoreload\n"
       ]
      }
     ],
     "prompt_number": 109
    },
    {
     "cell_type": "code",
     "collapsed": false,
     "input": [],
     "language": "python",
     "metadata": {},
     "outputs": []
    },
    {
     "cell_type": "code",
     "collapsed": false,
     "input": [
      "model = MKSRegressionModelSlow(Nbin=11)\n",
      "model.fit(X, y)"
     ],
     "language": "python",
     "metadata": {},
     "outputs": [],
     "prompt_number": 110
    },
    {
     "cell_type": "code",
     "collapsed": false,
     "input": [
      "from sklearn import metrics\n",
      "mse = metrics.mean_squared_error\n",
      "print model.predict(X).flatten()[0]\n",
      "print y.flatten()[0]\n",
      "print mse(model.predict(X), y)"
     ],
     "language": "python",
     "metadata": {},
     "outputs": [
      {
       "output_type": "stream",
       "stream": "stdout",
       "text": [
        "279.395276836\n",
        "279.395276836\n",
        "6.55730208162e-23\n"
       ]
      }
     ],
     "prompt_number": 111
    },
    {
     "cell_type": "code",
     "collapsed": false,
     "input": [
      "print model.m[0].reshape((11, 10, 10))[:,0,0]\n",
      "\n",
      "plt.contourf(model.coeff.reshape((11, 10, 10))[2])\n",
      "plt.colorbar()"
     ],
     "language": "python",
     "metadata": {},
     "outputs": [
      {
       "output_type": "stream",
       "stream": "stdout",
       "text": [
        "[ 0.          0.          0.          0.23373632  0.76626368  0.          0.\n",
        "  0.          0.          0.          0.        ]\n"
       ]
      },
      {
       "metadata": {},
       "output_type": "pyout",
       "prompt_number": 136,
       "text": [
        "<matplotlib.colorbar.Colorbar instance at 0xb6d0bd8>"
       ]
      },
      {
       "metadata": {},
       "output_type": "display_data",
       "png": "[encoded data removed]",
       "text": [
        "<matplotlib.figure.Figure at 0xb088ed0>"
       ]
      }
     ],
     "prompt_number": 136
    },
    {
     "cell_type": "code",
     "collapsed": false,
     "input": [
      "X_test = np.random.random((100, 20, 20))\n",
      "y_test = FiPyCHModel(dt=1e-4).predict(X_test)"
     ],
     "language": "python",
     "metadata": {},
     "outputs": [],
     "prompt_number": 59
    },
    {
     "cell_type": "code",
     "collapsed": false,
     "input": [
      "plt.contourf(X[0])\n",
      "plt.colorbar()"
     ],
     "language": "python",
     "metadata": {},
     "outputs": [
      {
       "metadata": {},
       "output_type": "pyout",
       "prompt_number": 60,
       "text": [
        "<matplotlib.colorbar.Colorbar instance at 0x9f4a7a0>"
       ]
      },
      {
       "metadata": {},
       "output_type": "display_data",
       "png": "[encoded data removed]",
       "text": [
        "<matplotlib.figure.Figure at 0x9fa3810>"
       ]
      }
     ],
     "prompt_number": 60
    },
    {
     "cell_type": "code",
     "collapsed": false,
     "input": [
      "plt.contourf(X[0] + 1e-4 * y[0])\n",
      "plt.colorbar()"
     ],
     "language": "python",
     "metadata": {},
     "outputs": [
      {
       "metadata": {},
       "output_type": "pyout",
       "prompt_number": 61,
       "text": [
        "<matplotlib.colorbar.Colorbar instance at 0xa7a85f0>"
       ]
      },
      {
       "metadata": {},
       "output_type": "display_data",
       "png": "[encoded data removed]",
       "text": [
        "<matplotlib.figure.Figure at 0x9fad890>"
       ]
      }
     ],
     "prompt_number": 61
    },
    {
     "cell_type": "code",
     "collapsed": false,
     "input": [
      "from sklearn import metrics\n",
      "mse = metrics.mean_squared_error\n",
      "print mse(model.predict(X_test), y_test)\n",
      "print model.Fcoeff.shape"
     ],
     "language": "python",
     "metadata": {},
     "outputs": [
      {
       "output_type": "stream",
       "stream": "stdout",
       "text": [
        "0.879631924622\n",
        "(20, 20, 50)\n"
       ]
      }
     ],
     "prompt_number": 65
    },
    {
     "cell_type": "code",
     "collapsed": false,
     "input": [
      " coeff = np.fft.ifftn(model.Fcoeff, axes=(0, 1))"
     ],
     "language": "python",
     "metadata": {},
     "outputs": [],
     "prompt_number": 63
    },
    {
     "cell_type": "code",
     "collapsed": false,
     "input": [
      "plt.contourf(np.log(coeff[:,:,2]))\n",
      "plt.colorbar()"
     ],
     "language": "python",
     "metadata": {},
     "outputs": [
      {
       "metadata": {},
       "output_type": "pyout",
       "prompt_number": 64,
       "text": [
        "<matplotlib.colorbar.Colorbar instance at 0xabddef0>"
       ]
      },
      {
       "metadata": {},
       "output_type": "display_data",
       "png": "[encoded data removed]",
       "text": [
        "<matplotlib.figure.Figure at 0x9ef7510>"
       ]
      }
     ],
     "prompt_number": 64
    },
    {
     "cell_type": "code",
     "collapsed": false,
     "input": [
      "print np.log(coeff[:,:,4])"
     ],
     "language": "python",
     "metadata": {},
     "outputs": [
      {
       "output_type": "stream",
       "stream": "stdout",
       "text": [
        "[[ 28.17548736-1.10288767j  27.61661835-0.55564545j\n",
        "   27.70421232-2.62719321j  28.46211427-0.41409425j\n",
        "   27.64479107+2.76837131j  27.68021959+2.17471668j\n",
        "   28.61578539+2.53069368j  28.95414580+2.87162997j\n",
        "   27.08488246+1.14550412j  27.81392496-0.92727989j\n",
        "   27.08128110-0.23704715j  27.74164390+2.3823275j   26.94408592-2.45773526j\n",
        "   28.62827183-0.460574j    28.07257473+1.29598487j\n",
        "   26.91110357-0.41345761j  27.31606832+0.12005008j\n",
        "   27.86203698+1.41532562j  28.32916863+1.82219887j\n",
        "   27.60249440-2.09532048j]\n",
        " [ 27.91880729+0.06968349j  28.95906262-0.09504114j  27.56491027-2.8653698j\n",
        "   27.80716800-1.97624882j  28.29786427+3.08360394j\n",
        "   28.44638147+3.03142051j  28.04592896+0.59675186j\n",
        "   27.97353389+0.33204334j  27.71870947-0.61579871j\n",
        "   28.39301818-1.04856586j  27.23798783-0.82254772j\n",
        "   27.66851165+0.75813551j  28.38100426-1.84081381j\n",
        "   28.41437375-1.40352176j  28.22768438+0.20120009j\n",
        "   27.99156068-0.43389078j  28.11992363+0.26986813j\n",
        "   28.36863525+0.56628371j  28.69452955+2.78221504j\n",
        "   28.88007492+3.11535242j]\n",
        " [ 28.05404694+1.93273035j  28.20850570+2.18425719j  26.90646796+2.9267232j\n",
        "   28.39817024-0.74724497j  28.10243395+2.74628182j\n",
        "   27.71452987-0.38274982j  28.20971162-2.06525324j\n",
        "   28.26963838-1.35630006j  28.97865182-0.12690325j\n",
        "   28.27550372-0.12563367j  28.15510548+0.97461888j\n",
        "   28.39627420+2.11114615j  28.24905592-2.34193404j\n",
        "   27.41191425-0.73069689j  27.99633406+0.26591022j\n",
        "   28.08867794-1.16075627j  27.46020935-2.69338937j  28.50486544+1.5922362j\n",
        "   27.97907254+2.82948057j  28.58124029+2.83147886j]\n",
        " [ 27.81453509+1.76986049j  28.57215773+2.09697666j\n",
        "   27.38253676-3.11606659j  28.38934910-0.87170687j\n",
        "   27.51167866+0.94926533j  28.03049982-2.29526678j\n",
        "   28.58797230-2.22282698j  27.96478548-2.28579849j\n",
        "   28.32608413-0.44497139j  28.29810900+0.00956633j\n",
        "   28.63367069+2.87895723j  26.73727739+2.00676496j\n",
        "   28.17786198-0.16745509j  28.21308395+2.96035677j\n",
        "   28.84693740+2.72103951j  27.09789177-1.64420896j\n",
        "   27.56990702+2.11604906j  27.36734507+2.79563787j\n",
        "   27.33477548-2.81825942j  28.31198253-2.20871023j]\n",
        " [ 27.98404673+0.68897419j  25.49931282+2.62392094j\n",
        "   29.07771262-2.74404011j  27.16129555-1.87285901j\n",
        "   28.54204974+2.90234572j  27.41471577-2.60129052j  27.53922502+2.6859992j\n",
        "   26.83427797+1.60796897j  28.55660353-0.19604878j\n",
        "   27.17098037-0.51160017j  28.46284148+2.91997326j\n",
        "   27.24992416-1.21142232j  28.49844716+0.01724678j\n",
        "   28.25009550+0.86729069j  28.34120623+2.86262051j\n",
        "   28.16268073-0.19802967j  27.99594746+2.04742047j\n",
        "   27.87489388+2.16292551j  27.83113283-1.67821534j\n",
        "   28.21935292-2.60033318j]\n",
        " [ 28.67171702+2.81587913j  28.30217004-2.33241614j\n",
        "   28.60367218-2.05743247j  27.81345486-0.74217215j\n",
        "   27.54967095-0.50268558j  27.97484400-0.00466436j\n",
        "   27.60560657+3.11874851j  28.22518676+2.79409643j\n",
        "   27.82896986-2.59761261j  28.64818297+0.03278877j\n",
        "   28.22378065-2.54103334j  27.74718663-2.72957682j\n",
        "   27.77792274-2.96932694j  27.65511794+1.96410121j  27.13020588+0.1094071j\n",
        "   28.19576508-3.02140906j  28.34990377+2.77122341j\n",
        "   27.89406293+1.04548624j  26.71387163+0.73736391j\n",
        "   28.81816736+3.02749314j]\n",
        " [ 28.27939052+2.08199382j  27.88260273-0.50587765j\n",
        "   26.16436493-0.65957219j  28.43162643-0.52757821j\n",
        "   27.95048848-0.52502796j  27.28632110+2.94193093j\n",
        "   27.93910910+1.66693044j  27.86312475+3.1283084j   28.39154946-2.44681122j\n",
        "   28.12712137-3.0098838j   28.49670905+2.57907959j\n",
        "   28.14668168+2.43659127j  27.61490473+2.82197846j\n",
        "   27.18500507+1.21599696j  26.71282386-2.25143514j\n",
        "   27.50621820-1.10136184j  27.65179055-0.92797397j\n",
        "   28.63265798+0.32639181j  28.50635654+0.14174148j\n",
        "   28.13643246+2.40481082j]\n",
        " [ 28.33519188+2.35691771j  27.91293139+1.98084566j\n",
        "   28.35138802+1.23603936j  28.74960884+0.52596397j\n",
        "   27.46654283-0.94652623j  28.39382585-2.53229894j\n",
        "   28.15970008-2.70110963j  27.88599994-2.07551539j\n",
        "   27.94328163-1.17159295j  27.92339683+2.05510348j\n",
        "   28.67209528+1.81656281j  28.56867876+3.04499071j  27.91569232-3.1271203j\n",
        "   27.58055223+0.11691375j  27.47925137-2.87163262j\n",
        "   27.70088992-2.53540053j  27.66137941-0.86427747j\n",
        "   28.92717861-0.24047238j  28.81443660-0.40956334j\n",
        "   27.93395882+0.81914018j]\n",
        " [ 28.23338035-1.89035977j  28.62447998-0.66650025j\n",
        "   28.65034748+0.63620131j  28.11322015+0.96252304j\n",
        "   28.23846009-0.12835137j  28.34601021+1.01212436j\n",
        "   27.28210240+0.85603968j  28.13098815-0.65834872j\n",
        "   28.74785668-0.27461117j  27.97808316+0.11772496j\n",
        "   28.65366424+0.06771876j  27.59001177+1.26468087j  27.87783004+3.0465534j\n",
        "   27.52802964+1.96242952j  27.83368166-2.51456029j\n",
        "   27.73057315-1.13084062j  27.48274647-0.91582022j\n",
        "   28.07226136-0.80059892j  27.89339779+0.13508663j\n",
        "   28.06807999+2.83513608j]\n",
        " [ 28.59603531-1.49885788j  28.29910956-0.11546173j\n",
        "   28.48890048+0.71427795j  28.48482969+2.75316078j\n",
        "   26.77955551-0.71488292j  28.61202394+0.96410585j\n",
        "   28.13993440+0.38550863j  28.50604994-0.58476586j\n",
        "   28.09753231-2.81198732j  27.76359375-1.47548698j\n",
        "   28.27941998+0.44535318j  26.03252624-1.96053994j\n",
        "   28.14510288+2.58619874j  28.25951955-3.02137931j\n",
        "   27.77655704+2.37935566j  27.28471363+0.75071381j\n",
        "   27.42286393+0.51064882j  25.14470552+3.13911745j\n",
        "   28.64537481-2.63459602j  28.83345683-3.07598945j]\n",
        " [ 28.11874047-1.14215133j  27.14548245-0.7416372j   27.77629576+2.83622559j\n",
        "   27.84468304-2.44199416j  27.45080226+2.25656931j\n",
        "   28.40346365+3.07016285j  28.04507060-2.80081024j  27.78794275-1.6741608j\n",
        "   28.66711513+0.0205795j   28.04985728+0.18883378j\n",
        "   27.77149605-0.62678271j  27.34218021-0.53288994j\n",
        "   27.64701490-0.35771829j  28.19603742-0.14226288j  27.34187152+0.4977174j\n",
        "   28.60388692+1.72834135j  25.96195064+1.60390938j\n",
        "   26.02491776+1.49683275j  27.23628510-1.85765336j\n",
        "   27.33285684+0.24935285j]\n",
        " [ 27.98866157-1.85917611j  28.15606082-1.15984869j\n",
        "   26.56569312-1.60499657j  27.10246496+0.26056082j\n",
        "   28.10166210-0.59108927j  26.99045994-0.83265862j\n",
        "   27.17683897-1.49175716j  27.82880304-2.45516521j\n",
        "   27.89952274+1.76706446j  28.29803050+1.00231353j\n",
        "   27.91699535+1.27545318j  27.44406217+0.48772556j\n",
        "   27.35160543-0.45900789j  27.67293451+2.86207632j\n",
        "   26.38152126-3.13541056j  28.49211920+2.65123351j\n",
        "   27.27571851+2.01149383j  27.39166956+2.43191704j\n",
        "   27.95985937+2.92804099j  28.10509359+1.86760447j]\n",
        " [ 28.54946625-2.6294086j   28.08611474-3.01123464j\n",
        "   26.92997877+0.05848766j  25.60212056+1.98256129j  28.51240759-0.4077837j\n",
        "   27.46905111+0.42843637j  27.52562920-1.34963698j\n",
        "   26.38929232-0.46557901j  27.64713665+1.43933807j\n",
        "   28.05277060+0.48576423j  27.09987196+2.30670392j\n",
        "   27.98996940+2.77552336j  27.86056444-2.71262336j\n",
        "   28.70386759+3.03667259j  28.26897428+2.97658508j\n",
        "   28.46025569-2.46028071j  28.17331324-2.69673637j\n",
        "   27.96015070-0.47203715j  28.37462494-0.23086806j\n",
        "   26.45831563-1.02695491j]\n",
        " [ 27.26967810+0.1952571j   28.00348337+0.63745837j\n",
        "   27.94331940+0.51767688j  27.12570961+2.13776526j\n",
        "   27.69561340+0.52902331j  27.90019659+2.09588845j\n",
        "   28.56769755-3.03264366j  27.85954272-1.28291248j\n",
        "   27.24612941+0.65882413j  28.57725079+0.16508479j\n",
        "   27.83817721+2.40579594j  26.49833996+2.78994663j\n",
        "   27.82622712+1.37402779j  27.27287613+2.35805481j\n",
        "   28.01252803-2.75900432j  28.45448284-2.64279572j\n",
        "   28.93555492-2.51930044j  27.52566756-2.79317601j\n",
        "   26.95562369+0.06680082j  26.92687638+1.8882891j ]\n",
        " [ 28.12679375-0.53435111j  26.46423270-1.44069368j\n",
        "   26.30602507+2.26782961j  28.63366450+0.11439613j\n",
        "   28.19649179+0.40889907j  28.24138623+2.47290183j\n",
        "   28.93946738+3.10560755j  27.64774021-2.10150345j\n",
        "   28.52209193-0.20125748j  28.25009670+0.12332313j\n",
        "   26.05051238-1.80836618j  27.60688497-0.31670337j  27.90232349-0.3640163j\n",
        "   27.77699243-0.05448602j  27.50905568+2.54944614j\n",
        "   26.71327021-2.08245439j  26.59527456-1.46471685j\n",
        "   28.00193346+2.55438603j  28.29827714+0.67325578j\n",
        "   27.74195019-1.36066747j]\n",
        " [ 27.86204777-1.5140567j   26.89638654+1.27693197j\n",
        "   27.44604363+1.52114725j  27.22615146+0.51025535j\n",
        "   28.15940777+2.88455638j  28.91012538+2.48339818j\n",
        "   28.35221433+2.80874043j  26.93070363-1.61055849j\n",
        "   28.41316957+0.33554844j  26.72165398+2.27413544j  28.15188876+2.6156761j\n",
        "   28.46355550-2.73344298j  28.47439212-0.92656857j\n",
        "   28.98681754-0.12412963j  28.40953326-0.37264553j\n",
        "   27.69647621-1.43372078j  27.50966222+3.00155841j\n",
        "   28.38162129+1.10339852j  28.07949536+0.65273771j\n",
        "   28.11651566-1.83585336j]\n",
        " [ 27.23480170+2.02358546j  28.88982176+0.32493337j\n",
        "   27.72767329+1.22720048j  27.73946959+2.4183343j   28.48014991-2.42117391j\n",
        "   27.04461907-1.60357793j  26.23388766+0.9394156j   28.19016175+0.74190326j\n",
        "   28.12388059+1.36979662j  28.89162260+2.96262827j\n",
        "   28.90755763+3.11499002j  28.73439569-1.98135125j  28.28908891-1.6184914j\n",
        "   26.92044633+2.81222359j  28.36418570-0.31968673j\n",
        "   28.48317966-1.75814373j  28.22873976-0.02236527j\n",
        "   28.62130178+0.11387647j  26.81571588-0.2278813j   27.37382685+2.07815457j]\n",
        " [ 27.67815091+1.76346666j  27.32975896+1.22834863j\n",
        "   27.89232782+1.76378982j  27.04234290-0.06576356j\n",
        "   28.42182740-2.62368106j  25.74424980-1.46862984j\n",
        "   27.90345651+3.10307697j  28.72952470+0.60943451j  28.24590627+1.0600326j\n",
        "   28.12321613-1.87283004j  27.99483737-1.68429653j\n",
        "   27.49973292-2.95039021j  27.66268474-2.67588487j\n",
        "   27.42246823+3.12769318j  28.06154098-0.30404085j\n",
        "   27.88080010-0.74920104j  27.19498173-1.1473442j   28.48410788-0.21989602j\n",
        "   27.28745413+0.63868462j  28.00891077+2.78436041j]\n",
        " [ 28.19359463-2.10181343j  27.64816637+2.88608902j\n",
        "   27.57255383+1.62680395j  28.13068231-0.16346496j\n",
        "   28.05902575-3.02809307j  27.40517102+1.5308838j   28.26778244-2.55661982j\n",
        "   27.04771223+1.28260525j  27.59678057+0.48792824j\n",
        "   28.55208535-1.93731433j  28.19980388-0.1786421j   28.24479955+1.68470235j\n",
        "   27.36614164-0.11432135j  28.39374266-0.43894183j\n",
        "   28.06908646+2.06046273j  28.75718654+2.92757263j  27.93021437-3.1313097j\n",
        "   28.40223622-0.13318033j  27.64142202+0.1732338j   27.38617454+0.07237723j]\n",
        " [ 28.56150974-2.52358022j  28.10195181-2.89867228j  27.58470875+2.8051029j\n",
        "   28.44158698-0.00500564j  28.01798772+0.56215289j\n",
        "   27.43772752+2.53542674j  26.26355802-1.67388969j\n",
        "   27.97192805-2.86554392j  27.00102406-0.06254718j\n",
        "   28.04818460-1.18595195j  28.63018895-0.34108841j\n",
        "   28.08350172+0.45238385j  27.67030295-1.24993768j\n",
        "   28.11046260+0.61715666j  28.70705500+2.1081621j   27.63637826+0.65326891j\n",
        "   27.71147553-1.0265949j   28.49582436+0.16267603j\n",
        "   27.27837481+0.30467724j  28.05763058-1.01850718j]]\n"
       ]
      }
     ],
     "prompt_number": 23
    },
    {
     "cell_type": "code",
     "collapsed": false,
     "input": [],
     "language": "python",
     "metadata": {},
     "outputs": []
    }
   ],
   "metadata": {}
  }
 ]
}