{
 "metadata": {
  "name": "",
<<<<<<< HEAD
  "signature": "sha256:b4fb9e58faa848971b60e854ec98c34328dbb09eeac691b13a413701c06eaae1"
=======
  "signature": "sha256:c86578568cd501c61b530ff3aff3ac773fe737b67922d3a12ee15193a25dcd9d"
>>>>>>> origin/issue149-Ti
 },
 "nbformat": 3,
 "nbformat_minor": 0,
 "worksheets": [
  {
   "cells": [
    {
<<<<<<< HEAD
     "cell_type": "markdown",
     "metadata": {},
     "source": [
      "#Title\n",
      "\n",
      "Hello world!"
     ]
    },
    {
     "cell_type": "markdown",
     "metadata": {},
     "source": []
=======
     "cell_type": "code",
     "collapsed": false,
     "input": [
      "%matplotlib inline\n",
      "%load_ext autoreload\n",
      "%autoreload 2\n",
      "\n",
      "import numpy as np\n",
      "import matplotlib.pyplot as plt\n",
      "import skimage.io as io"
     ],
     "language": "python",
     "metadata": {},
     "outputs": [],
     "prompt_number": 1
    },
    {
     "cell_type": "code",
     "collapsed": false,
     "input": [
      "url = 'https://farm4.staticflickr.com/3908/15248092302_3a94178821_z_d.jpg'\n",
      "X = io.imread(url)[None]\n",
      "X = np.round(X / float(np.max(X))).astype(int)"
     ],
     "language": "python",
     "metadata": {},
     "outputs": [],
     "prompt_number": 2
    },
    {
     "cell_type": "code",
     "collapsed": false,
     "input": [],
     "language": "python",
     "metadata": {},
     "outputs": []
>>>>>>> origin/issue149-Ti
    }
   ],
   "metadata": {}
  }
 ]
}