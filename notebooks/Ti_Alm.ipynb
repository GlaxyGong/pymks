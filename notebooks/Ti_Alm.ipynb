{
 "metadata": {
  "name": "",
  "signature": "sha256:2f189ce7190117544ec808691e3f6d36fa4555696dc1124831ff04ca9c7dfaa3"
 },
 "nbformat": 3,
 "nbformat_minor": 0,
 "worksheets": []
}